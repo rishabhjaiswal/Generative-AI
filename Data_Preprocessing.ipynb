{
  "nbformat": 4,
  "nbformat_minor": 0,
  "metadata": {
    "colab": {
      "provenance": [],
      "collapsed_sections": [
        "7A9Uoq-Q4WRo"
      ],
      "authorship_tag": "ABX9TyODdxmw7M0ginLfvqBDV43A",
      "include_colab_link": true
    },
    "kernelspec": {
      "name": "python3",
      "display_name": "Python 3"
    },
    "language_info": {
      "name": "python"
    }
  },
  "cells": [
    {
      "cell_type": "markdown",
      "metadata": {
        "id": "view-in-github",
        "colab_type": "text"
      },
      "source": [
        "<a href=\"https://colab.research.google.com/github/rishabhjaiswal/Generative-AI/blob/main/Data_Preprocessing.ipynb\" target=\"_parent\"><img src=\"https://colab.research.google.com/assets/colab-badge.svg\" alt=\"Open In Colab\"/></a>"
      ]
    },
    {
      "cell_type": "code",
      "execution_count": 1,
      "metadata": {
        "id": "4dlwhKL5DaKP"
      },
      "outputs": [],
      "source": [
        "!pip install -q nltk\n",
        "\n"
      ]
    },
    {
      "cell_type": "code",
      "source": [
        "import nltk\n",
        "import pandas as pd\n",
        "import numpy as np\n",
        "nltk.download('all')\n"
      ],
      "metadata": {
        "colab": {
          "base_uri": "https://localhost:8080/"
        },
        "id": "oIMRs99OEXfT",
        "outputId": "b18c59f5-17b0-4540-8a94-8dda24f9e8e8"
      },
      "execution_count": 2,
      "outputs": [
        {
          "output_type": "stream",
          "name": "stderr",
          "text": [
            "[nltk_data] Downloading collection 'all'\n",
            "[nltk_data]    | \n",
            "[nltk_data]    | Downloading package abc to /root/nltk_data...\n",
            "[nltk_data]    |   Unzipping corpora/abc.zip.\n",
            "[nltk_data]    | Downloading package alpino to /root/nltk_data...\n",
            "[nltk_data]    |   Unzipping corpora/alpino.zip.\n",
            "[nltk_data]    | Downloading package averaged_perceptron_tagger to\n",
            "[nltk_data]    |     /root/nltk_data...\n",
            "[nltk_data]    |   Unzipping taggers/averaged_perceptron_tagger.zip.\n",
            "[nltk_data]    | Downloading package averaged_perceptron_tagger_eng to\n",
            "[nltk_data]    |     /root/nltk_data...\n",
            "[nltk_data]    |   Unzipping\n",
            "[nltk_data]    |       taggers/averaged_perceptron_tagger_eng.zip.\n",
            "[nltk_data]    | Downloading package averaged_perceptron_tagger_ru to\n",
            "[nltk_data]    |     /root/nltk_data...\n",
            "[nltk_data]    |   Unzipping\n",
            "[nltk_data]    |       taggers/averaged_perceptron_tagger_ru.zip.\n",
            "[nltk_data]    | Downloading package averaged_perceptron_tagger_rus to\n",
            "[nltk_data]    |     /root/nltk_data...\n",
            "[nltk_data]    |   Unzipping\n",
            "[nltk_data]    |       taggers/averaged_perceptron_tagger_rus.zip.\n",
            "[nltk_data]    | Downloading package basque_grammars to\n",
            "[nltk_data]    |     /root/nltk_data...\n",
            "[nltk_data]    |   Unzipping grammars/basque_grammars.zip.\n",
            "[nltk_data]    | Downloading package bcp47 to /root/nltk_data...\n",
            "[nltk_data]    | Downloading package biocreative_ppi to\n",
            "[nltk_data]    |     /root/nltk_data...\n",
            "[nltk_data]    |   Unzipping corpora/biocreative_ppi.zip.\n",
            "[nltk_data]    | Downloading package bllip_wsj_no_aux to\n",
            "[nltk_data]    |     /root/nltk_data...\n",
            "[nltk_data]    |   Unzipping models/bllip_wsj_no_aux.zip.\n",
            "[nltk_data]    | Downloading package book_grammars to\n",
            "[nltk_data]    |     /root/nltk_data...\n",
            "[nltk_data]    |   Unzipping grammars/book_grammars.zip.\n",
            "[nltk_data]    | Downloading package brown to /root/nltk_data...\n",
            "[nltk_data]    |   Unzipping corpora/brown.zip.\n",
            "[nltk_data]    | Downloading package brown_tei to /root/nltk_data...\n",
            "[nltk_data]    |   Unzipping corpora/brown_tei.zip.\n",
            "[nltk_data]    | Downloading package cess_cat to /root/nltk_data...\n",
            "[nltk_data]    |   Unzipping corpora/cess_cat.zip.\n",
            "[nltk_data]    | Downloading package cess_esp to /root/nltk_data...\n",
            "[nltk_data]    |   Unzipping corpora/cess_esp.zip.\n",
            "[nltk_data]    | Downloading package chat80 to /root/nltk_data...\n",
            "[nltk_data]    |   Unzipping corpora/chat80.zip.\n",
            "[nltk_data]    | Downloading package city_database to\n",
            "[nltk_data]    |     /root/nltk_data...\n",
            "[nltk_data]    |   Unzipping corpora/city_database.zip.\n",
            "[nltk_data]    | Downloading package cmudict to /root/nltk_data...\n",
            "[nltk_data]    |   Unzipping corpora/cmudict.zip.\n",
            "[nltk_data]    | Downloading package comparative_sentences to\n",
            "[nltk_data]    |     /root/nltk_data...\n",
            "[nltk_data]    |   Unzipping corpora/comparative_sentences.zip.\n",
            "[nltk_data]    | Downloading package comtrans to /root/nltk_data...\n",
            "[nltk_data]    | Downloading package conll2000 to /root/nltk_data...\n",
            "[nltk_data]    |   Unzipping corpora/conll2000.zip.\n",
            "[nltk_data]    | Downloading package conll2002 to /root/nltk_data...\n",
            "[nltk_data]    |   Unzipping corpora/conll2002.zip.\n",
            "[nltk_data]    | Downloading package conll2007 to /root/nltk_data...\n",
            "[nltk_data]    | Downloading package crubadan to /root/nltk_data...\n",
            "[nltk_data]    |   Unzipping corpora/crubadan.zip.\n",
            "[nltk_data]    | Downloading package dependency_treebank to\n",
            "[nltk_data]    |     /root/nltk_data...\n",
            "[nltk_data]    |   Unzipping corpora/dependency_treebank.zip.\n",
            "[nltk_data]    | Downloading package dolch to /root/nltk_data...\n",
            "[nltk_data]    |   Unzipping corpora/dolch.zip.\n",
            "[nltk_data]    | Downloading package english_wordnet to\n",
            "[nltk_data]    |     /root/nltk_data...\n",
            "[nltk_data]    |   Unzipping corpora/english_wordnet.zip.\n",
            "[nltk_data]    | Downloading package europarl_raw to\n",
            "[nltk_data]    |     /root/nltk_data...\n",
            "[nltk_data]    |   Unzipping corpora/europarl_raw.zip.\n",
            "[nltk_data]    | Downloading package extended_omw to\n",
            "[nltk_data]    |     /root/nltk_data...\n",
            "[nltk_data]    | Downloading package floresta to /root/nltk_data...\n",
            "[nltk_data]    |   Unzipping corpora/floresta.zip.\n",
            "[nltk_data]    | Downloading package framenet_v15 to\n",
            "[nltk_data]    |     /root/nltk_data...\n",
            "[nltk_data]    |   Unzipping corpora/framenet_v15.zip.\n",
            "[nltk_data]    | Downloading package framenet_v17 to\n",
            "[nltk_data]    |     /root/nltk_data...\n",
            "[nltk_data]    |   Unzipping corpora/framenet_v17.zip.\n",
            "[nltk_data]    | Downloading package gazetteers to /root/nltk_data...\n",
            "[nltk_data]    |   Unzipping corpora/gazetteers.zip.\n",
            "[nltk_data]    | Downloading package genesis to /root/nltk_data...\n",
            "[nltk_data]    |   Unzipping corpora/genesis.zip.\n",
            "[nltk_data]    | Downloading package gutenberg to /root/nltk_data...\n",
            "[nltk_data]    |   Unzipping corpora/gutenberg.zip.\n",
            "[nltk_data]    | Downloading package ieer to /root/nltk_data...\n",
            "[nltk_data]    |   Unzipping corpora/ieer.zip.\n",
            "[nltk_data]    | Downloading package inaugural to /root/nltk_data...\n",
            "[nltk_data]    |   Unzipping corpora/inaugural.zip.\n",
            "[nltk_data]    | Downloading package indian to /root/nltk_data...\n",
            "[nltk_data]    |   Unzipping corpora/indian.zip.\n",
            "[nltk_data]    | Downloading package jeita to /root/nltk_data...\n",
            "[nltk_data]    | Downloading package kimmo to /root/nltk_data...\n",
            "[nltk_data]    |   Unzipping corpora/kimmo.zip.\n",
            "[nltk_data]    | Downloading package knbc to /root/nltk_data...\n",
            "[nltk_data]    | Downloading package large_grammars to\n",
            "[nltk_data]    |     /root/nltk_data...\n",
            "[nltk_data]    |   Unzipping grammars/large_grammars.zip.\n",
            "[nltk_data]    | Downloading package lin_thesaurus to\n",
            "[nltk_data]    |     /root/nltk_data...\n",
            "[nltk_data]    |   Unzipping corpora/lin_thesaurus.zip.\n",
            "[nltk_data]    | Downloading package mac_morpho to /root/nltk_data...\n",
            "[nltk_data]    |   Unzipping corpora/mac_morpho.zip.\n",
            "[nltk_data]    | Downloading package machado to /root/nltk_data...\n",
            "[nltk_data]    | Downloading package masc_tagged to /root/nltk_data...\n",
            "[nltk_data]    | Downloading package maxent_ne_chunker to\n",
            "[nltk_data]    |     /root/nltk_data...\n",
            "[nltk_data]    |   Unzipping chunkers/maxent_ne_chunker.zip.\n",
            "[nltk_data]    | Downloading package maxent_ne_chunker_tab to\n",
            "[nltk_data]    |     /root/nltk_data...\n",
            "[nltk_data]    |   Unzipping chunkers/maxent_ne_chunker_tab.zip.\n",
            "[nltk_data]    | Downloading package maxent_treebank_pos_tagger to\n",
            "[nltk_data]    |     /root/nltk_data...\n",
            "[nltk_data]    |   Unzipping taggers/maxent_treebank_pos_tagger.zip.\n",
            "[nltk_data]    | Downloading package maxent_treebank_pos_tagger_tab to\n",
            "[nltk_data]    |     /root/nltk_data...\n",
            "[nltk_data]    |   Unzipping\n",
            "[nltk_data]    |       taggers/maxent_treebank_pos_tagger_tab.zip.\n",
            "[nltk_data]    | Downloading package moses_sample to\n",
            "[nltk_data]    |     /root/nltk_data...\n",
            "[nltk_data]    |   Unzipping models/moses_sample.zip.\n",
            "[nltk_data]    | Downloading package movie_reviews to\n",
            "[nltk_data]    |     /root/nltk_data...\n",
            "[nltk_data]    |   Unzipping corpora/movie_reviews.zip.\n",
            "[nltk_data]    | Downloading package mte_teip5 to /root/nltk_data...\n",
            "[nltk_data]    |   Unzipping corpora/mte_teip5.zip.\n",
            "[nltk_data]    | Downloading package mwa_ppdb to /root/nltk_data...\n",
            "[nltk_data]    |   Unzipping misc/mwa_ppdb.zip.\n",
            "[nltk_data]    | Downloading package names to /root/nltk_data...\n",
            "[nltk_data]    |   Unzipping corpora/names.zip.\n",
            "[nltk_data]    | Downloading package nombank.1.0 to /root/nltk_data...\n",
            "[nltk_data]    | Downloading package nonbreaking_prefixes to\n",
            "[nltk_data]    |     /root/nltk_data...\n",
            "[nltk_data]    |   Unzipping corpora/nonbreaking_prefixes.zip.\n",
            "[nltk_data]    | Downloading package nps_chat to /root/nltk_data...\n",
            "[nltk_data]    |   Unzipping corpora/nps_chat.zip.\n",
            "[nltk_data]    | Downloading package omw to /root/nltk_data...\n",
            "[nltk_data]    | Downloading package omw-1.4 to /root/nltk_data...\n",
            "[nltk_data]    | Downloading package opinion_lexicon to\n",
            "[nltk_data]    |     /root/nltk_data...\n",
            "[nltk_data]    |   Unzipping corpora/opinion_lexicon.zip.\n",
            "[nltk_data]    | Downloading package panlex_swadesh to\n",
            "[nltk_data]    |     /root/nltk_data...\n",
            "[nltk_data]    | Downloading package paradigms to /root/nltk_data...\n",
            "[nltk_data]    |   Unzipping corpora/paradigms.zip.\n",
            "[nltk_data]    | Downloading package pe08 to /root/nltk_data...\n",
            "[nltk_data]    |   Unzipping corpora/pe08.zip.\n",
            "[nltk_data]    | Downloading package perluniprops to\n",
            "[nltk_data]    |     /root/nltk_data...\n",
            "[nltk_data]    |   Unzipping misc/perluniprops.zip.\n",
            "[nltk_data]    | Downloading package pil to /root/nltk_data...\n",
            "[nltk_data]    |   Unzipping corpora/pil.zip.\n",
            "[nltk_data]    | Downloading package pl196x to /root/nltk_data...\n",
            "[nltk_data]    |   Unzipping corpora/pl196x.zip.\n",
            "[nltk_data]    | Downloading package porter_test to /root/nltk_data...\n",
            "[nltk_data]    |   Unzipping stemmers/porter_test.zip.\n",
            "[nltk_data]    | Downloading package ppattach to /root/nltk_data...\n",
            "[nltk_data]    |   Unzipping corpora/ppattach.zip.\n",
            "[nltk_data]    | Downloading package problem_reports to\n",
            "[nltk_data]    |     /root/nltk_data...\n",
            "[nltk_data]    |   Unzipping corpora/problem_reports.zip.\n",
            "[nltk_data]    | Downloading package product_reviews_1 to\n",
            "[nltk_data]    |     /root/nltk_data...\n",
            "[nltk_data]    |   Unzipping corpora/product_reviews_1.zip.\n",
            "[nltk_data]    | Downloading package product_reviews_2 to\n",
            "[nltk_data]    |     /root/nltk_data...\n",
            "[nltk_data]    |   Unzipping corpora/product_reviews_2.zip.\n",
            "[nltk_data]    | Downloading package propbank to /root/nltk_data...\n",
            "[nltk_data]    | Downloading package pros_cons to /root/nltk_data...\n",
            "[nltk_data]    |   Unzipping corpora/pros_cons.zip.\n",
            "[nltk_data]    | Downloading package ptb to /root/nltk_data...\n",
            "[nltk_data]    |   Unzipping corpora/ptb.zip.\n",
            "[nltk_data]    | Downloading package punkt to /root/nltk_data...\n",
            "[nltk_data]    |   Unzipping tokenizers/punkt.zip.\n",
            "[nltk_data]    | Downloading package punkt_tab to /root/nltk_data...\n",
            "[nltk_data]    |   Unzipping tokenizers/punkt_tab.zip.\n",
            "[nltk_data]    | Downloading package qc to /root/nltk_data...\n",
            "[nltk_data]    |   Unzipping corpora/qc.zip.\n",
            "[nltk_data]    | Downloading package reuters to /root/nltk_data...\n",
            "[nltk_data]    | Downloading package rslp to /root/nltk_data...\n",
            "[nltk_data]    |   Unzipping stemmers/rslp.zip.\n",
            "[nltk_data]    | Downloading package rte to /root/nltk_data...\n",
            "[nltk_data]    |   Unzipping corpora/rte.zip.\n",
            "[nltk_data]    | Downloading package sample_grammars to\n",
            "[nltk_data]    |     /root/nltk_data...\n",
            "[nltk_data]    |   Unzipping grammars/sample_grammars.zip.\n",
            "[nltk_data]    | Downloading package semcor to /root/nltk_data...\n",
            "[nltk_data]    | Downloading package senseval to /root/nltk_data...\n",
            "[nltk_data]    |   Unzipping corpora/senseval.zip.\n",
            "[nltk_data]    | Downloading package sentence_polarity to\n",
            "[nltk_data]    |     /root/nltk_data...\n",
            "[nltk_data]    |   Unzipping corpora/sentence_polarity.zip.\n",
            "[nltk_data]    | Downloading package sentiwordnet to\n",
            "[nltk_data]    |     /root/nltk_data...\n",
            "[nltk_data]    |   Unzipping corpora/sentiwordnet.zip.\n",
            "[nltk_data]    | Downloading package shakespeare to /root/nltk_data...\n",
            "[nltk_data]    |   Unzipping corpora/shakespeare.zip.\n",
            "[nltk_data]    | Downloading package sinica_treebank to\n",
            "[nltk_data]    |     /root/nltk_data...\n",
            "[nltk_data]    |   Unzipping corpora/sinica_treebank.zip.\n",
            "[nltk_data]    | Downloading package smultron to /root/nltk_data...\n",
            "[nltk_data]    |   Unzipping corpora/smultron.zip.\n",
            "[nltk_data]    | Downloading package snowball_data to\n",
            "[nltk_data]    |     /root/nltk_data...\n",
            "[nltk_data]    | Downloading package spanish_grammars to\n",
            "[nltk_data]    |     /root/nltk_data...\n",
            "[nltk_data]    |   Unzipping grammars/spanish_grammars.zip.\n",
            "[nltk_data]    | Downloading package state_union to /root/nltk_data...\n",
            "[nltk_data]    |   Unzipping corpora/state_union.zip.\n",
            "[nltk_data]    | Downloading package stopwords to /root/nltk_data...\n",
            "[nltk_data]    |   Unzipping corpora/stopwords.zip.\n",
            "[nltk_data]    | Downloading package subjectivity to\n",
            "[nltk_data]    |     /root/nltk_data...\n",
            "[nltk_data]    |   Unzipping corpora/subjectivity.zip.\n",
            "[nltk_data]    | Downloading package swadesh to /root/nltk_data...\n",
            "[nltk_data]    |   Unzipping corpora/swadesh.zip.\n",
            "[nltk_data]    | Downloading package switchboard to /root/nltk_data...\n",
            "[nltk_data]    |   Unzipping corpora/switchboard.zip.\n",
            "[nltk_data]    | Downloading package tagsets to /root/nltk_data...\n",
            "[nltk_data]    |   Unzipping help/tagsets.zip.\n",
            "[nltk_data]    | Downloading package tagsets_json to\n",
            "[nltk_data]    |     /root/nltk_data...\n",
            "[nltk_data]    |   Unzipping help/tagsets_json.zip.\n",
            "[nltk_data]    | Downloading package timit to /root/nltk_data...\n",
            "[nltk_data]    |   Unzipping corpora/timit.zip.\n",
            "[nltk_data]    | Downloading package toolbox to /root/nltk_data...\n",
            "[nltk_data]    |   Unzipping corpora/toolbox.zip.\n",
            "[nltk_data]    | Downloading package treebank to /root/nltk_data...\n",
            "[nltk_data]    |   Unzipping corpora/treebank.zip.\n",
            "[nltk_data]    | Downloading package twitter_samples to\n",
            "[nltk_data]    |     /root/nltk_data...\n",
            "[nltk_data]    |   Unzipping corpora/twitter_samples.zip.\n",
            "[nltk_data]    | Downloading package udhr to /root/nltk_data...\n",
            "[nltk_data]    |   Unzipping corpora/udhr.zip.\n",
            "[nltk_data]    | Downloading package udhr2 to /root/nltk_data...\n",
            "[nltk_data]    |   Unzipping corpora/udhr2.zip.\n",
            "[nltk_data]    | Downloading package unicode_samples to\n",
            "[nltk_data]    |     /root/nltk_data...\n",
            "[nltk_data]    |   Unzipping corpora/unicode_samples.zip.\n",
            "[nltk_data]    | Downloading package universal_tagset to\n",
            "[nltk_data]    |     /root/nltk_data...\n",
            "[nltk_data]    |   Unzipping taggers/universal_tagset.zip.\n",
            "[nltk_data]    | Downloading package universal_treebanks_v20 to\n",
            "[nltk_data]    |     /root/nltk_data...\n",
            "[nltk_data]    | Downloading package vader_lexicon to\n",
            "[nltk_data]    |     /root/nltk_data...\n",
            "[nltk_data]    | Downloading package verbnet to /root/nltk_data...\n",
            "[nltk_data]    |   Unzipping corpora/verbnet.zip.\n",
            "[nltk_data]    | Downloading package verbnet3 to /root/nltk_data...\n",
            "[nltk_data]    |   Unzipping corpora/verbnet3.zip.\n",
            "[nltk_data]    | Downloading package webtext to /root/nltk_data...\n",
            "[nltk_data]    |   Unzipping corpora/webtext.zip.\n",
            "[nltk_data]    | Downloading package wmt15_eval to /root/nltk_data...\n",
            "[nltk_data]    |   Unzipping models/wmt15_eval.zip.\n",
            "[nltk_data]    | Downloading package word2vec_sample to\n",
            "[nltk_data]    |     /root/nltk_data...\n",
            "[nltk_data]    |   Unzipping models/word2vec_sample.zip.\n",
            "[nltk_data]    | Downloading package wordnet to /root/nltk_data...\n",
            "[nltk_data]    | Downloading package wordnet2021 to /root/nltk_data...\n",
            "[nltk_data]    | Downloading package wordnet2022 to /root/nltk_data...\n",
            "[nltk_data]    |   Unzipping corpora/wordnet2022.zip.\n",
            "[nltk_data]    | Downloading package wordnet31 to /root/nltk_data...\n",
            "[nltk_data]    | Downloading package wordnet_ic to /root/nltk_data...\n",
            "[nltk_data]    |   Unzipping corpora/wordnet_ic.zip.\n",
            "[nltk_data]    | Downloading package words to /root/nltk_data...\n",
            "[nltk_data]    |   Unzipping corpora/words.zip.\n",
            "[nltk_data]    | Downloading package ycoe to /root/nltk_data...\n",
            "[nltk_data]    |   Unzipping corpora/ycoe.zip.\n",
            "[nltk_data]    | \n",
            "[nltk_data]  Done downloading collection all\n"
          ]
        },
        {
          "output_type": "execute_result",
          "data": {
            "text/plain": [
              "True"
            ]
          },
          "metadata": {},
          "execution_count": 2
        }
      ]
    },
    {
      "cell_type": "code",
      "source": [
        "corpus=\"\"\"Hello World,\n",
        "Hope this finds you well?\n",
        "I'm Rishabh Jaiswal working as a project information speciailsit at Fluor.\n",
        "\"\"\""
      ],
      "metadata": {
        "id": "kLucSmFVxy5I"
      },
      "execution_count": 3,
      "outputs": []
    },
    {
      "cell_type": "code",
      "source": [
        "print(corpus)\n"
      ],
      "metadata": {
        "colab": {
          "base_uri": "https://localhost:8080/"
        },
        "id": "dwSavr3dxz3x",
        "outputId": "4b5fa12c-254c-4a6e-e657-d18ea9b7308e"
      },
      "execution_count": 4,
      "outputs": [
        {
          "output_type": "stream",
          "name": "stdout",
          "text": [
            "Hello World,\n",
            "Hope this finds you well?\n",
            "I'm Rishabh Jaiswal working as a project information speciailsit at Fluor.\n",
            "\n"
          ]
        }
      ]
    },
    {
      "cell_type": "code",
      "source": [
        "#Sentance to Paragraph\n",
        "from nltk.tokenize import sent_tokenize\n",
        "\n"
      ],
      "metadata": {
        "id": "BgxzmDF8x0P5"
      },
      "execution_count": 5,
      "outputs": []
    },
    {
      "cell_type": "code",
      "source": [
        "documents=sent_tokenize(corpus)\n",
        "print(documents)"
      ],
      "metadata": {
        "colab": {
          "base_uri": "https://localhost:8080/"
        },
        "id": "jUbK0GKV-3o6",
        "outputId": "0a9dc0c8-f9e2-4ac8-da35-5c7b20c869b9"
      },
      "execution_count": 6,
      "outputs": [
        {
          "output_type": "stream",
          "name": "stdout",
          "text": [
            "['Hello World,\\nHope this finds you well?', \"I'm Rishabh Jaiswal working as a project information speciailsit at Fluor.\"]\n"
          ]
        }
      ]
    },
    {
      "cell_type": "code",
      "source": [
        "for sentance in documents:\n",
        "  print(sentance)"
      ],
      "metadata": {
        "colab": {
          "base_uri": "https://localhost:8080/"
        },
        "id": "xzeQxJnJ_y3a",
        "outputId": "7006646e-d94f-4ba4-afb8-d17c6ba1baee"
      },
      "execution_count": 7,
      "outputs": [
        {
          "output_type": "stream",
          "name": "stdout",
          "text": [
            "Hello World,\n",
            "Hope this finds you well?\n",
            "I'm Rishabh Jaiswal working as a project information speciailsit at Fluor.\n"
          ]
        }
      ]
    },
    {
      "cell_type": "code",
      "source": [
        "#Paragraph tp words\n",
        "#Sentance to words\n",
        "\n",
        "nltk.tokenize.word_tokenize(corpus)"
      ],
      "metadata": {
        "colab": {
          "base_uri": "https://localhost:8080/"
        },
        "id": "UwT4jdrwCvOx",
        "outputId": "4a325022-6f75-48eb-b4ae-a102fcf4855c"
      },
      "execution_count": 8,
      "outputs": [
        {
          "output_type": "execute_result",
          "data": {
            "text/plain": [
              "['Hello',\n",
              " 'World',\n",
              " ',',\n",
              " 'Hope',\n",
              " 'this',\n",
              " 'finds',\n",
              " 'you',\n",
              " 'well',\n",
              " '?',\n",
              " 'I',\n",
              " \"'m\",\n",
              " 'Rishabh',\n",
              " 'Jaiswal',\n",
              " 'working',\n",
              " 'as',\n",
              " 'a',\n",
              " 'project',\n",
              " 'information',\n",
              " 'speciailsit',\n",
              " 'at',\n",
              " 'Fluor',\n",
              " '.']"
            ]
          },
          "metadata": {},
          "execution_count": 8
        }
      ]
    },
    {
      "cell_type": "code",
      "source": [
        "nltk.tokenize.wordpunct_tokenize(corpus)"
      ],
      "metadata": {
        "colab": {
          "base_uri": "https://localhost:8080/"
        },
        "id": "wBhJXJvNDLkJ",
        "outputId": "52d70881-1f10-4348-d35d-5f4687569535"
      },
      "execution_count": 9,
      "outputs": [
        {
          "output_type": "execute_result",
          "data": {
            "text/plain": [
              "['Hello',\n",
              " 'World',\n",
              " ',',\n",
              " 'Hope',\n",
              " 'this',\n",
              " 'finds',\n",
              " 'you',\n",
              " 'well',\n",
              " '?',\n",
              " 'I',\n",
              " \"'\",\n",
              " 'm',\n",
              " 'Rishabh',\n",
              " 'Jaiswal',\n",
              " 'working',\n",
              " 'as',\n",
              " 'a',\n",
              " 'project',\n",
              " 'information',\n",
              " 'speciailsit',\n",
              " 'at',\n",
              " 'Fluor',\n",
              " '.']"
            ]
          },
          "metadata": {},
          "execution_count": 9
        }
      ]
    },
    {
      "cell_type": "code",
      "source": [
        "tokenizer = nltk.tokenize.TreebankWordTokenizer()\n",
        "#Stokenizer.tokenize(corpus)"
      ],
      "metadata": {
        "id": "BBLDKeMGGBdG"
      },
      "execution_count": 10,
      "outputs": []
    },
    {
      "cell_type": "markdown",
      "source": [
        "# **Stemming** -> Generating the root stem\n",
        "\n"
      ],
      "metadata": {
        "id": "7A9Uoq-Q4WRo"
      }
    },
    {
      "cell_type": "markdown",
      "source": [],
      "metadata": {
        "id": "e5whbDV64T7h"
      }
    },
    {
      "cell_type": "code",
      "source": [
        "words=[\"eating\",\"eats\",\"eaten\",\"writing\",\"writes\",\"programming\",\"programs\",\"history\",\"finally\",\"finalized\",  \"fairly\", \"sportingly\"]"
      ],
      "metadata": {
        "id": "tl-n0CIEGhTj"
      },
      "execution_count": 11,
      "outputs": []
    },
    {
      "cell_type": "markdown",
      "source": [],
      "metadata": {
        "id": "cKSRTT7V4Rxi"
      }
    },
    {
      "cell_type": "code",
      "source": [
        "from nltk.stem import PorterStemmer"
      ],
      "metadata": {
        "id": "dEY2PwovPtSD"
      },
      "execution_count": 12,
      "outputs": []
    },
    {
      "cell_type": "code",
      "source": [
        "stemming=PorterStemmer()"
      ],
      "metadata": {
        "id": "zKw2zJzvQAWP"
      },
      "execution_count": 13,
      "outputs": []
    },
    {
      "cell_type": "code",
      "source": [
        "for word in words:\n",
        "  print(word+\"---->\"+stemming.stem(word))"
      ],
      "metadata": {
        "colab": {
          "base_uri": "https://localhost:8080/"
        },
        "id": "X6naxMPWQFrj",
        "outputId": "88254d62-805c-483e-ade6-1039db9ad292"
      },
      "execution_count": 14,
      "outputs": [
        {
          "output_type": "stream",
          "name": "stdout",
          "text": [
            "eating---->eat\n",
            "eats---->eat\n",
            "eaten---->eaten\n",
            "writing---->write\n",
            "writes---->write\n",
            "programming---->program\n",
            "programs---->program\n",
            "history---->histori\n",
            "finally---->final\n",
            "finalized---->final\n",
            "fairly---->fairli\n",
            "sportingly---->sportingli\n"
          ]
        }
      ]
    },
    {
      "cell_type": "markdown",
      "source": [
        "# Note -> history---->histori #Disadvantage of Stemming\n"
      ],
      "metadata": {
        "id": "0PVHUyaM5AXw"
      }
    },
    {
      "cell_type": "code",
      "source": [
        "from nltk.stem import RegexpStemmer"
      ],
      "metadata": {
        "id": "C4KJTo0XQOEq"
      },
      "execution_count": 15,
      "outputs": []
    },
    {
      "cell_type": "code",
      "source": [
        "reg_stemmer=RegexpStemmer('ing$|s$|e$|able$', min=4)"
      ],
      "metadata": {
        "id": "4KBggzR26v0s"
      },
      "execution_count": 16,
      "outputs": []
    },
    {
      "cell_type": "code",
      "source": [
        "for word in words:\n",
        "  print(word+\"---->\"+reg_stemmer.stem(word))"
      ],
      "metadata": {
        "colab": {
          "base_uri": "https://localhost:8080/"
        },
        "id": "q7j3z8VX68XI",
        "outputId": "7df7c789-b11f-40d0-9860-7ebf4084b991"
      },
      "execution_count": 17,
      "outputs": [
        {
          "output_type": "stream",
          "name": "stdout",
          "text": [
            "eating---->eat\n",
            "eats---->eat\n",
            "eaten---->eaten\n",
            "writing---->writ\n",
            "writes---->write\n",
            "programming---->programm\n",
            "programs---->program\n",
            "history---->history\n",
            "finally---->finally\n",
            "finalized---->finalized\n",
            "fairly---->fairly\n",
            "sportingly---->sportingly\n"
          ]
        }
      ]
    },
    {
      "cell_type": "markdown",
      "source": [
        "# Snowball Stemmer"
      ],
      "metadata": {
        "id": "XIE3Yi_a7YKH"
      }
    },
    {
      "cell_type": "code",
      "source": [
        "from nltk.stem import SnowballStemmer"
      ],
      "metadata": {
        "id": "52k7-cf17OQB"
      },
      "execution_count": 18,
      "outputs": []
    },
    {
      "cell_type": "code",
      "source": [
        "snowballstemmer=SnowballStemmer('english')"
      ],
      "metadata": {
        "id": "fnnlohJ-7g96"
      },
      "execution_count": 19,
      "outputs": []
    },
    {
      "cell_type": "code",
      "source": [
        "for word in words:\n",
        "  print(word+\"----->\"+snowballstemmer.stem(word))"
      ],
      "metadata": {
        "colab": {
          "base_uri": "https://localhost:8080/"
        },
        "id": "w7WLZkHn7iMH",
        "outputId": "ae4b9d46-1efe-4008-849b-f58f112482f1"
      },
      "execution_count": 20,
      "outputs": [
        {
          "output_type": "stream",
          "name": "stdout",
          "text": [
            "eating----->eat\n",
            "eats----->eat\n",
            "eaten----->eaten\n",
            "writing----->write\n",
            "writes----->write\n",
            "programming----->program\n",
            "programs----->program\n",
            "history----->histori\n",
            "finally----->final\n",
            "finalized----->final\n",
            "fairly----->fair\n",
            "sportingly----->sport\n"
          ]
        }
      ]
    },
    {
      "cell_type": "markdown",
      "source": [
        "# **Lemmatization** Generating the root word\n",
        "To resolve the above issues Lemmatization is used\n"
      ],
      "metadata": {
        "id": "YnalR-tsLduB"
      }
    },
    {
      "cell_type": "code",
      "source": [
        "from nltk.stem import WordNetLemmatizer"
      ],
      "metadata": {
        "id": "MCjvL8_j70lE"
      },
      "execution_count": 21,
      "outputs": []
    },
    {
      "cell_type": "code",
      "source": [
        "lemmatizer=WordNetLemmatizer()"
      ],
      "metadata": {
        "id": "jXL_TT4eMi7D"
      },
      "execution_count": 22,
      "outputs": []
    },
    {
      "cell_type": "code",
      "source": [
        "for word in words:\n",
        "  print(word+\"----->\"+lemmatizer.lemmatize(word, pos='v'))\n"
      ],
      "metadata": {
        "colab": {
          "base_uri": "https://localhost:8080/"
        },
        "id": "BDOtq4-LMlBU",
        "outputId": "446f54c4-ddeb-41b8-9f73-b47c239906be"
      },
      "execution_count": 23,
      "outputs": [
        {
          "output_type": "stream",
          "name": "stdout",
          "text": [
            "eating----->eat\n",
            "eats----->eat\n",
            "eaten----->eat\n",
            "writing----->write\n",
            "writes----->write\n",
            "programming----->program\n",
            "programs----->program\n",
            "history----->history\n",
            "finally----->finally\n",
            "finalized----->finalize\n",
            "fairly----->fairly\n",
            "sportingly----->sportingly\n"
          ]
        }
      ]
    },
    {
      "cell_type": "markdown",
      "source": [
        "# **Stopwords**\n"
      ],
      "metadata": {
        "id": "U0-5k7FsVnHu"
      }
    },
    {
      "cell_type": "code",
      "source": [
        "paragraph = \"\"\"I have three visions for India. In 3000 years of our history, people from all over\n",
        "               the world have come and invaded us, captured our lands, conquered our minds.\n",
        "               From Alexander onwards, the Greeks, the Turks, the Moguls, the Portuguese, the British,\n",
        "               the French, the Dutch, all of them came and looted us, took over what was ours.\n",
        "               Yet we have not done this to any other nation. We have not conquered anyone.\n",
        "               We have not grabbed their land, their culture,\n",
        "               their history and tried to enforce our way of life on them.\n",
        "               Why? Because we respect the freedom of others.That is why my\n",
        "               first vision is that of freedom. I believe that India got its first vision of\n",
        "               this in 1857, when we started the War of Independence. It is this freedom that\n",
        "               we must protect and nurture and build on. If we are not free, no one will respect us.\n",
        "               My second vision for India’s development. For fifty years we have been a developing nation.\n",
        "               It is time we see ourselves as a developed nation. We are among the top 5 nations of the world\n",
        "               in terms of GDP. We have a 10 percent growth rate in most areas. Our poverty levels are falling.\n",
        "               Our achievements are being globally recognised today. Yet we lack the self-confidence to\n",
        "               see ourselves as a developed nation, self-reliant and self-assured. Isn’t this incorrect?\n",
        "               I have a third vision. India must stand up to the world. Because I believe that unless India\n",
        "               stands up to the world, no one will respect us. Only strength respects strength. We must be\n",
        "               strong not only as a military power but also as an economic power. Both must go hand-in-hand.\n",
        "               My good fortune was to have worked with three great minds. Dr. Vikram Sarabhai of the Dept. of\n",
        "               space, Professor Satish Dhawan, who succeeded him and Dr. Brahm Prakash, father of nuclear material.\n",
        "               I was lucky to have worked with all three of them closely and consider this the great opportunity of my life.\n",
        "               I see four milestones in my career\"\"\""
      ],
      "metadata": {
        "id": "RdgTWhLPMnHO"
      },
      "execution_count": 24,
      "outputs": []
    },
    {
      "cell_type": "code",
      "source": [
        "from nltk.stem import PorterStemmer"
      ],
      "metadata": {
        "id": "ZG5shISxU4pK"
      },
      "execution_count": 25,
      "outputs": []
    },
    {
      "cell_type": "code",
      "source": [
        "from nltk.corpus import stopwords"
      ],
      "metadata": {
        "id": "-2AutVYEVZre"
      },
      "execution_count": 26,
      "outputs": []
    },
    {
      "cell_type": "code",
      "source": [
        "stop_words=stopwords.words('english')"
      ],
      "metadata": {
        "id": "wDFKm_wkVcxH"
      },
      "execution_count": 27,
      "outputs": []
    },
    {
      "cell_type": "code",
      "source": [
        "stemmer=PorterStemmer()"
      ],
      "metadata": {
        "id": "ZUnXZy6JVi2x"
      },
      "execution_count": 28,
      "outputs": []
    },
    {
      "cell_type": "code",
      "source": [
        "sentances=nltk.sent_tokenize(paragraph)"
      ],
      "metadata": {
        "id": "H3WyfPyiV5nH"
      },
      "execution_count": 29,
      "outputs": []
    },
    {
      "cell_type": "code",
      "source": [
        "#remove stopwords from sentances and apply stemming\n",
        "for i in range(len(sentances)):\n",
        "  words=nltk.word_tokenize(sentances[i])\n",
        "  words=[stemmer.stem(word) for word in words if word not in set(stop_words)]\n",
        "  sentances[i]=' '.join(words) #converting all the words in sentances"
      ],
      "metadata": {
        "id": "UP2Kpsg1V9ku"
      },
      "execution_count": 30,
      "outputs": []
    },
    {
      "cell_type": "code",
      "source": [
        "sentances"
      ],
      "metadata": {
        "colab": {
          "base_uri": "https://localhost:8080/"
        },
        "id": "Ce8LxVt0Xx-m",
        "outputId": "aaae275b-ca0f-46d7-a469-ee42fa03fd14"
      },
      "execution_count": 31,
      "outputs": [
        {
          "output_type": "execute_result",
          "data": {
            "text/plain": [
              "['i three vision india .',\n",
              " 'in 3000 year histori , peopl world come invad us , captur land , conquer mind .',\n",
              " 'from alexand onward , greek , turk , mogul , portugues , british , french , dutch , came loot us , took .',\n",
              " 'yet done nation .',\n",
              " 'we conquer anyon .',\n",
              " 'we grab land , cultur , histori tri enforc way life .',\n",
              " 'whi ?',\n",
              " 'becaus respect freedom others.that first vision freedom .',\n",
              " 'i believ india got first vision 1857 , start war independ .',\n",
              " 'it freedom must protect nurtur build .',\n",
              " 'if free , one respect us .',\n",
              " 'my second vision india ’ develop .',\n",
              " 'for fifti year develop nation .',\n",
              " 'it time see develop nation .',\n",
              " 'we among top 5 nation world term gdp .',\n",
              " 'we 10 percent growth rate area .',\n",
              " 'our poverti level fall .',\n",
              " 'our achiev global recognis today .',\n",
              " 'yet lack self-confid see develop nation , self-reli self-assur .',\n",
              " 'isn ’ incorrect ?',\n",
              " 'i third vision .',\n",
              " 'india must stand world .',\n",
              " 'becaus i believ unless india stand world , one respect us .',\n",
              " 'onli strength respect strength .',\n",
              " 'we must strong militari power also econom power .',\n",
              " 'both must go hand-in-hand .',\n",
              " 'my good fortun work three great mind .',\n",
              " 'dr. vikram sarabhai dept .',\n",
              " 'space , professor satish dhawan , succeed dr. brahm prakash , father nuclear materi .',\n",
              " 'i lucki work three close consid great opportun life .',\n",
              " 'i see four mileston career']"
            ]
          },
          "metadata": {},
          "execution_count": 31
        }
      ]
    },
    {
      "cell_type": "code",
      "source": [
        "snowballstemmer1=SnowballStemmer('english')"
      ],
      "metadata": {
        "id": "piaElk-rXyuC"
      },
      "execution_count": 32,
      "outputs": []
    },
    {
      "cell_type": "code",
      "source": [
        "#remove stopwords from sentances and apply snowballstemming\n",
        "for i in range(len(sentances)):\n",
        "  words=nltk.word_tokenize(sentances[i])\n",
        "  words=[snowballstemmer1.stem(word) for word in words if word not in set(stop_words)]\n",
        "  sentances[i]=' '.join(words) #converting all the words in sentances"
      ],
      "metadata": {
        "id": "vSfsjQWbYabr"
      },
      "execution_count": 33,
      "outputs": []
    },
    {
      "cell_type": "code",
      "source": [
        "sentances"
      ],
      "metadata": {
        "colab": {
          "base_uri": "https://localhost:8080/"
        },
        "id": "Wd7tdX1dYe-O",
        "outputId": "9dbaa96d-af04-46a1-e0a6-4f0b1888e026"
      },
      "execution_count": 34,
      "outputs": [
        {
          "output_type": "execute_result",
          "data": {
            "text/plain": [
              "['three vision india .',\n",
              " '3000 year histori , peopl world come invad us , captur land , conquer mind .',\n",
              " 'alexand onward , greek , turk , mogul , portugu , british , french , dutch , came loot us , took .',\n",
              " 'yet done nation .',\n",
              " 'conquer anyon .',\n",
              " 'grab land , cultur , histori tri enforc way life .',\n",
              " 'whi ?',\n",
              " 'becaus respect freedom others.that first vision freedom .',\n",
              " 'believ india got first vision 1857 , start war independ .',\n",
              " 'freedom must protect nurtur build .',\n",
              " 'free , one respect us .',\n",
              " 'second vision india ’ develop .',\n",
              " 'fifti year develop nation .',\n",
              " 'time see develop nation .',\n",
              " 'among top 5 nation world term gdp .',\n",
              " '10 percent growth rate area .',\n",
              " 'poverti level fall .',\n",
              " 'achiev global recogni today .',\n",
              " 'yet lack self-confid see develop nation , self-r self-assur .',\n",
              " '’ incorrect ?',\n",
              " 'third vision .',\n",
              " 'india must stand world .',\n",
              " 'becaus believ unless india stand world , one respect us .',\n",
              " 'on strength respect strength .',\n",
              " 'must strong militari power also econom power .',\n",
              " 'must go hand-in-hand .',\n",
              " 'good fortun work three great mind .',\n",
              " 'dr. vikram sarabhai dept .',\n",
              " 'space , professor satish dhawan , succeed dr. brahm prakash , father nuclear materi .',\n",
              " 'lucki work three close consid great opportun life .',\n",
              " 'see four mileston career']"
            ]
          },
          "metadata": {},
          "execution_count": 34
        }
      ]
    },
    {
      "cell_type": "code",
      "source": [
        "lemmatizer1=WordNetLemmatizer()"
      ],
      "metadata": {
        "id": "rXCTI7XzYrwc"
      },
      "execution_count": 35,
      "outputs": []
    },
    {
      "cell_type": "code",
      "source": [
        "#remove stopwords from sentances and apply lemmatizer\n",
        "for i in range(len(sentances)):\n",
        "  sentances[i]=sentances[i].lower()\n",
        "  words=nltk.word_tokenize(sentances[i])\n",
        "  words=[lemmatizer.lemmatize(word, pos='v') for word in words if word not in set(stop_words)]\n",
        "  sentances[i]=' '.join(words) #converting all the words in sentances"
      ],
      "metadata": {
        "id": "53AW0u6dY9IL"
      },
      "execution_count": 36,
      "outputs": []
    },
    {
      "cell_type": "code",
      "source": [
        "sentances"
      ],
      "metadata": {
        "colab": {
          "base_uri": "https://localhost:8080/"
        },
        "id": "3fihxe8fZE9t",
        "outputId": "bf349ddd-b073-44e1-fb65-9e2fe63b4e2a"
      },
      "execution_count": 37,
      "outputs": [
        {
          "output_type": "execute_result",
          "data": {
            "text/plain": [
              "['three vision india .',\n",
              " '3000 year histori , peopl world come invad us , captur land , conquer mind .',\n",
              " 'alexand onward , greek , turk , mogul , portugu , british , french , dutch , come loot us , take .',\n",
              " 'yet do nation .',\n",
              " 'conquer anyon .',\n",
              " 'grab land , cultur , histori tri enforc way life .',\n",
              " 'whi ?',\n",
              " 'becaus respect freedom others.that first vision freedom .',\n",
              " 'believ india get first vision 1857 , start war independ .',\n",
              " 'freedom must protect nurtur build .',\n",
              " 'free , one respect us .',\n",
              " 'second vision india ’ develop .',\n",
              " 'fifti year develop nation .',\n",
              " 'time see develop nation .',\n",
              " 'among top 5 nation world term gdp .',\n",
              " '10 percent growth rate area .',\n",
              " 'poverti level fall .',\n",
              " 'achiev global recogni today .',\n",
              " 'yet lack self-confid see develop nation , self-r self-assur .',\n",
              " '’ incorrect ?',\n",
              " 'third vision .',\n",
              " 'india must stand world .',\n",
              " 'becaus believ unless india stand world , one respect us .',\n",
              " 'strength respect strength .',\n",
              " 'must strong militari power also econom power .',\n",
              " 'must go hand-in-hand .',\n",
              " 'good fortun work three great mind .',\n",
              " 'dr. vikram sarabhai dept .',\n",
              " 'space , professor satish dhawan , succeed dr. brahm prakash , father nuclear materi .',\n",
              " 'lucki work three close consid great opportun life .',\n",
              " 'see four mileston career']"
            ]
          },
          "metadata": {},
          "execution_count": 37
        }
      ]
    },
    {
      "cell_type": "markdown",
      "source": [
        "# **Parts of Speech Tagging**\n"
      ],
      "metadata": {
        "id": "Fp6bJp2ygrNR"
      }
    },
    {
      "cell_type": "code",
      "source": [
        "sentances=nltk.sent_tokenize(paragraph)"
      ],
      "metadata": {
        "id": "dbWFVfthZG2V"
      },
      "execution_count": 38,
      "outputs": []
    },
    {
      "cell_type": "code",
      "source": [
        "paragraph"
      ],
      "metadata": {
        "colab": {
          "base_uri": "https://localhost:8080/",
          "height": 105
        },
        "id": "lcho4uwbg636",
        "outputId": "d50f693b-b41a-4387-e3cb-dc18a673d514"
      },
      "execution_count": 39,
      "outputs": [
        {
          "output_type": "execute_result",
          "data": {
            "text/plain": [
              "'I have three visions for India. In 3000 years of our history, people from all over\\n               the world have come and invaded us, captured our lands, conquered our minds.\\n               From Alexander onwards, the Greeks, the Turks, the Moguls, the Portuguese, the British,\\n               the French, the Dutch, all of them came and looted us, took over what was ours.\\n               Yet we have not done this to any other nation. We have not conquered anyone.\\n               We have not grabbed their land, their culture,\\n               their history and tried to enforce our way of life on them.\\n               Why? Because we respect the freedom of others.That is why my\\n               first vision is that of freedom. I believe that India got its first vision of\\n               this in 1857, when we started the War of Independence. It is this freedom that\\n               we must protect and nurture and build on. If we are not free, no one will respect us.\\n               My second vision for India’s development. For fifty years we have been a developing nation.\\n               It is time we see ourselves as a developed nation. We are among the top 5 nations of the world\\n               in terms of GDP. We have a 10 percent growth rate in most areas. Our poverty levels are falling.\\n               Our achievements are being globally recognised today. Yet we lack the self-confidence to\\n               see ourselves as a developed nation, self-reliant and self-assured. Isn’t this incorrect?\\n               I have a third vision. India must stand up to the world. Because I believe that unless India\\n               stands up to the world, no one will respect us. Only strength respects strength. We must be\\n               strong not only as a military power but also as an economic power. Both must go hand-in-hand.\\n               My good fortune was to have worked with three great minds. Dr. Vikram Sarabhai of the Dept. of\\n               space, Professor Satish Dhawan, who succeeded him and Dr. Brahm Prakash, father of nuclear material.\\n               I was lucky to have worked with all three of them closely and consider this the great opportunity of my life.\\n               I see four milestones in my career'"
            ],
            "application/vnd.google.colaboratory.intrinsic+json": {
              "type": "string"
            }
          },
          "metadata": {},
          "execution_count": 39
        }
      ]
    },
    {
      "cell_type": "code",
      "source": [
        "##finding pos tags\n",
        "for i in range (len(sentances)):\n",
        "  words=nltk.word_tokenize(sentances[i])\n",
        "  words=[word for word in words if word not in set(stop_words)]\n",
        "  pos_tag=nltk.pos_tag(words)\n",
        "  print(pos_tag)"
      ],
      "metadata": {
        "colab": {
          "base_uri": "https://localhost:8080/"
        },
        "id": "n0_13nbtg72K",
        "outputId": "0ddc07b2-136a-41a2-e6ab-340c26105ed6"
      },
      "execution_count": 40,
      "outputs": [
        {
          "output_type": "stream",
          "name": "stdout",
          "text": [
            "[('I', 'PRP'), ('three', 'CD'), ('visions', 'NNS'), ('India', 'NNP'), ('.', '.')]\n",
            "[('In', 'IN'), ('3000', 'CD'), ('years', 'NNS'), ('history', 'NN'), (',', ','), ('people', 'NNS'), ('world', 'NN'), ('come', 'VBP'), ('invaded', 'VBN'), ('us', 'PRP'), (',', ','), ('captured', 'VBD'), ('lands', 'NNS'), (',', ','), ('conquered', 'VBD'), ('minds', 'NNS'), ('.', '.')]\n",
            "[('From', 'IN'), ('Alexander', 'NNP'), ('onwards', 'NNS'), (',', ','), ('Greeks', 'NNP'), (',', ','), ('Turks', 'NNP'), (',', ','), ('Moguls', 'NNP'), (',', ','), ('Portuguese', 'NNP'), (',', ','), ('British', 'NNP'), (',', ','), ('French', 'NNP'), (',', ','), ('Dutch', 'NNP'), (',', ','), ('came', 'VBD'), ('looted', 'JJ'), ('us', 'PRP'), (',', ','), ('took', 'VBD'), ('.', '.')]\n",
            "[('Yet', 'RB'), ('done', 'VBN'), ('nation', 'NN'), ('.', '.')]\n",
            "[('We', 'PRP'), ('conquered', 'VBD'), ('anyone', 'NN'), ('.', '.')]\n",
            "[('We', 'PRP'), ('grabbed', 'VBD'), ('land', 'NN'), (',', ','), ('culture', 'NN'), (',', ','), ('history', 'NN'), ('tried', 'VBD'), ('enforce', 'JJ'), ('way', 'NN'), ('life', 'NN'), ('.', '.')]\n",
            "[('Why', 'WRB'), ('?', '.')]\n",
            "[('Because', 'IN'), ('respect', 'NN'), ('freedom', 'NN'), ('others.That', 'IN'), ('first', 'JJ'), ('vision', 'NN'), ('freedom', 'NN'), ('.', '.')]\n",
            "[('I', 'PRP'), ('believe', 'VBP'), ('India', 'NNP'), ('got', 'VBD'), ('first', 'JJ'), ('vision', 'NN'), ('1857', 'CD'), (',', ','), ('started', 'VBD'), ('War', 'NNP'), ('Independence', 'NNP'), ('.', '.')]\n",
            "[('It', 'PRP'), ('freedom', 'NN'), ('must', 'MD'), ('protect', 'VB'), ('nurture', 'NN'), ('build', 'NN'), ('.', '.')]\n",
            "[('If', 'IN'), ('free', 'JJ'), (',', ','), ('one', 'CD'), ('respect', 'NN'), ('us', 'PRP'), ('.', '.')]\n",
            "[('My', 'PRP$'), ('second', 'JJ'), ('vision', 'NN'), ('India', 'NNP'), ('’', 'NNP'), ('development', 'NN'), ('.', '.')]\n",
            "[('For', 'IN'), ('fifty', 'JJ'), ('years', 'NNS'), ('developing', 'VBG'), ('nation', 'NN'), ('.', '.')]\n",
            "[('It', 'PRP'), ('time', 'NN'), ('see', 'VB'), ('developed', 'JJ'), ('nation', 'NN'), ('.', '.')]\n",
            "[('We', 'PRP'), ('among', 'IN'), ('top', 'JJ'), ('5', 'CD'), ('nations', 'NNS'), ('world', 'NN'), ('terms', 'NNS'), ('GDP', 'NNP'), ('.', '.')]\n",
            "[('We', 'PRP'), ('10', 'CD'), ('percent', 'JJ'), ('growth', 'NN'), ('rate', 'NN'), ('areas', 'NNS'), ('.', '.')]\n",
            "[('Our', 'PRP$'), ('poverty', 'NN'), ('levels', 'NNS'), ('falling', 'VBG'), ('.', '.')]\n",
            "[('Our', 'PRP$'), ('achievements', 'NNS'), ('globally', 'RB'), ('recognised', 'VBN'), ('today', 'NN'), ('.', '.')]\n",
            "[('Yet', 'RB'), ('lack', 'JJ'), ('self-confidence', 'NN'), ('see', 'NN'), ('developed', 'JJ'), ('nation', 'NN'), (',', ','), ('self-reliant', 'JJ'), ('self-assured', 'JJ'), ('.', '.')]\n",
            "[('Isn', 'NNP'), ('’', 'NNP'), ('incorrect', 'NN'), ('?', '.')]\n",
            "[('I', 'PRP'), ('third', 'JJ'), ('vision', 'NN'), ('.', '.')]\n",
            "[('India', 'NNP'), ('must', 'MD'), ('stand', 'VB'), ('world', 'NN'), ('.', '.')]\n",
            "[('Because', 'IN'), ('I', 'PRP'), ('believe', 'VBP'), ('unless', 'IN'), ('India', 'NNP'), ('stands', 'VBZ'), ('world', 'NN'), (',', ','), ('one', 'CD'), ('respect', 'NN'), ('us', 'PRP'), ('.', '.')]\n",
            "[('Only', 'RB'), ('strength', 'NN'), ('respects', 'NNS'), ('strength', 'NN'), ('.', '.')]\n",
            "[('We', 'PRP'), ('must', 'MD'), ('strong', 'JJ'), ('military', 'JJ'), ('power', 'NN'), ('also', 'RB'), ('economic', 'JJ'), ('power', 'NN'), ('.', '.')]\n",
            "[('Both', 'DT'), ('must', 'MD'), ('go', 'VB'), ('hand-in-hand', 'NN'), ('.', '.')]\n",
            "[('My', 'PRP$'), ('good', 'JJ'), ('fortune', 'NN'), ('worked', 'VBD'), ('three', 'CD'), ('great', 'JJ'), ('minds', 'NNS'), ('.', '.')]\n",
            "[('Dr.', 'NNP'), ('Vikram', 'NNP'), ('Sarabhai', 'NNP'), ('Dept', 'NNP'), ('.', '.')]\n",
            "[('space', 'NN'), (',', ','), ('Professor', 'NNP'), ('Satish', 'NNP'), ('Dhawan', 'NNP'), (',', ','), ('succeeded', 'VBD'), ('Dr.', 'NNP'), ('Brahm', 'NNP'), ('Prakash', 'NNP'), (',', ','), ('father', 'RB'), ('nuclear', 'JJ'), ('material', 'NN'), ('.', '.')]\n",
            "[('I', 'PRP'), ('lucky', 'VBP'), ('worked', 'VBD'), ('three', 'CD'), ('closely', 'RB'), ('consider', 'VBP'), ('great', 'JJ'), ('opportunity', 'NN'), ('life', 'NN'), ('.', '.')]\n",
            "[('I', 'PRP'), ('see', 'VBP'), ('four', 'CD'), ('milestones', 'NNS'), ('career', 'NN')]\n"
          ]
        }
      ]
    },
    {
      "cell_type": "markdown",
      "source": [
        "# **Name Entity Regcognition**"
      ],
      "metadata": {
        "id": "dlLFkAp0i_Mo"
      }
    },
    {
      "cell_type": "code",
      "source": [
        "sentences1=\"The Eiffel Tower was built from 1887 to 1889 by French engineer Gustave Eiffel, whose company specialized in building metal frameworks and structures.\"\n"
      ],
      "metadata": {
        "id": "_R_Hm4Uvhk5t"
      },
      "execution_count": 41,
      "outputs": []
    },
    {
      "cell_type": "code",
      "source": [
        "sentences1"
      ],
      "metadata": {
        "colab": {
          "base_uri": "https://localhost:8080/",
          "height": 35
        },
        "id": "w65WH075hnkP",
        "outputId": "103f4199-c420-48a8-c3c4-f354bfabe444"
      },
      "execution_count": 42,
      "outputs": [
        {
          "output_type": "execute_result",
          "data": {
            "text/plain": [
              "'The Eiffel Tower was built from 1887 to 1889 by French engineer Gustave Eiffel, whose company specialized in building metal frameworks and structures.'"
            ],
            "application/vnd.google.colaboratory.intrinsic+json": {
              "type": "string"
            }
          },
          "metadata": {},
          "execution_count": 42
        }
      ]
    },
    {
      "cell_type": "code",
      "source": [
        "words1=nltk.word_tokenize(sentences1)"
      ],
      "metadata": {
        "id": "I2QgICORIZ-v"
      },
      "execution_count": 43,
      "outputs": []
    },
    {
      "cell_type": "code",
      "source": [
        "tag_elements=nltk.pos_tag(words1)"
      ],
      "metadata": {
        "id": "ZZTWyrxxJeFi"
      },
      "execution_count": 44,
      "outputs": []
    },
    {
      "cell_type": "code",
      "source": [
        "pip install svgling"
      ],
      "metadata": {
        "colab": {
          "base_uri": "https://localhost:8080/"
        },
        "id": "rsFuh4O9hOV5",
        "outputId": "6d1b59d5-7aed-4d02-ac17-448af34b6037"
      },
      "execution_count": 45,
      "outputs": [
        {
          "output_type": "stream",
          "name": "stdout",
          "text": [
            "Collecting svgling\n",
            "  Downloading svgling-0.5.0-py3-none-any.whl.metadata (7.4 kB)\n",
            "Collecting svgwrite (from svgling)\n",
            "  Downloading svgwrite-1.4.3-py3-none-any.whl.metadata (8.8 kB)\n",
            "Downloading svgling-0.5.0-py3-none-any.whl (31 kB)\n",
            "Downloading svgwrite-1.4.3-py3-none-any.whl (67 kB)\n",
            "\u001b[2K   \u001b[90m━━━━━━━━━━━━━━━━━━━━━━━━━━━━━━━━━━━━━━━━\u001b[0m \u001b[32m67.1/67.1 kB\u001b[0m \u001b[31m3.1 MB/s\u001b[0m eta \u001b[36m0:00:00\u001b[0m\n",
            "\u001b[?25hInstalling collected packages: svgwrite, svgling\n",
            "Successfully installed svgling-0.5.0 svgwrite-1.4.3\n"
          ]
        }
      ]
    },
    {
      "cell_type": "code",
      "source": [
        "nltk.ne_chunk(tag_elements)\n"
      ],
      "metadata": {
        "colab": {
          "base_uri": "https://localhost:8080/",
          "height": 189
        },
        "id": "HNkhaA1SJlv5",
        "outputId": "77d4b8e6-6f70-46cf-ec36-0cf0bbe2e260"
      },
      "execution_count": 46,
      "outputs": [
        {
          "output_type": "execute_result",
          "data": {
            "text/plain": [
              "Tree('S', [('The', 'DT'), Tree('ORGANIZATION', [('Eiffel', 'NNP'), ('Tower', 'NNP')]), ('was', 'VBD'), ('built', 'VBN'), ('from', 'IN'), ('1887', 'CD'), ('to', 'TO'), ('1889', 'CD'), ('by', 'IN'), Tree('GPE', [('French', 'JJ')]), ('engineer', 'NN'), Tree('PERSON', [('Gustave', 'NNP'), ('Eiffel', 'NNP')]), (',', ','), ('whose', 'WP$'), ('company', 'NN'), ('specialized', 'VBD'), ('in', 'IN'), ('building', 'NN'), ('metal', 'NN'), ('frameworks', 'NNS'), ('and', 'CC'), ('structures', 'NNS'), ('.', '.')])"
            ],
            "image/svg+xml": "<svg baseProfile=\"full\" height=\"168px\" preserveAspectRatio=\"xMidYMid meet\" style=\"font-family: times, serif; font-weight: normal; font-style: normal; font-size: 16px\" version=\"1.1\" viewBox=\"0,0,1424.0,168.0\" width=\"1424px\" xmlns=\"http://www.w3.org/2000/svg\" xmlns:ev=\"http://www.w3.org/2001/xml-events\" xmlns:xlink=\"http://www.w3.org/1999/xlink\"><defs /><svg width=\"100%\" x=\"0\" y=\"0px\"><defs /><text text-anchor=\"middle\" x=\"50%\" y=\"16px\">S</text></svg><svg width=\"2.80899%\" x=\"0%\" y=\"48px\"><defs /><svg width=\"100%\" x=\"0\" y=\"0px\"><defs /><text text-anchor=\"middle\" x=\"50%\" y=\"16px\">The</text></svg><svg width=\"100%\" x=\"0%\" y=\"48px\"><defs /><svg width=\"100%\" x=\"0\" y=\"0px\"><defs /><text text-anchor=\"middle\" x=\"50%\" y=\"16px\">DT</text></svg></svg><line stroke=\"black\" x1=\"50%\" x2=\"50%\" y1=\"20px\" y2=\"48px\" /></svg><line stroke=\"black\" x1=\"50%\" x2=\"1.40449%\" y1=\"20px\" y2=\"48px\" /><svg width=\"8.42697%\" x=\"2.80899%\" y=\"48px\"><defs /><svg width=\"100%\" x=\"0\" y=\"0px\"><defs /><text text-anchor=\"middle\" x=\"50%\" y=\"16px\">ORGANIZATION</text></svg><svg width=\"53.3333%\" x=\"0%\" y=\"48px\"><defs /><svg width=\"100%\" x=\"0\" y=\"0px\"><defs /><text text-anchor=\"middle\" x=\"50%\" y=\"16px\">Eiffel</text></svg><svg width=\"100%\" x=\"0%\" y=\"48px\"><defs /><svg width=\"100%\" x=\"0\" y=\"0px\"><defs /><text text-anchor=\"middle\" x=\"50%\" y=\"16px\">NNP</text></svg></svg><line stroke=\"black\" x1=\"50%\" x2=\"50%\" y1=\"20px\" y2=\"48px\" /></svg><line stroke=\"black\" x1=\"50%\" x2=\"26.6667%\" y1=\"20px\" y2=\"48px\" /><svg width=\"46.6667%\" x=\"53.3333%\" y=\"48px\"><defs /><svg width=\"100%\" x=\"0\" y=\"0px\"><defs /><text text-anchor=\"middle\" x=\"50%\" y=\"16px\">Tower</text></svg><svg width=\"100%\" x=\"0%\" y=\"48px\"><defs /><svg width=\"100%\" x=\"0\" y=\"0px\"><defs /><text text-anchor=\"middle\" x=\"50%\" y=\"16px\">NNP</text></svg></svg><line stroke=\"black\" x1=\"50%\" x2=\"50%\" y1=\"20px\" y2=\"48px\" /></svg><line stroke=\"black\" x1=\"50%\" x2=\"76.6667%\" y1=\"20px\" y2=\"48px\" /></svg><line stroke=\"black\" x1=\"50%\" x2=\"7.02247%\" y1=\"20px\" y2=\"48px\" /><svg width=\"2.80899%\" x=\"11.236%\" y=\"48px\"><defs /><svg width=\"100%\" x=\"0\" y=\"0px\"><defs /><text text-anchor=\"middle\" x=\"50%\" y=\"16px\">was</text></svg><svg width=\"100%\" x=\"0%\" y=\"48px\"><defs /><svg width=\"100%\" x=\"0\" y=\"0px\"><defs /><text text-anchor=\"middle\" x=\"50%\" y=\"16px\">VBD</text></svg></svg><line stroke=\"black\" x1=\"50%\" x2=\"50%\" y1=\"20px\" y2=\"48px\" /></svg><line stroke=\"black\" x1=\"50%\" x2=\"12.6404%\" y1=\"20px\" y2=\"48px\" /><svg width=\"3.93258%\" x=\"14.0449%\" y=\"48px\"><defs /><svg width=\"100%\" x=\"0\" y=\"0px\"><defs /><text text-anchor=\"middle\" x=\"50%\" y=\"16px\">built</text></svg><svg width=\"100%\" x=\"0%\" y=\"48px\"><defs /><svg width=\"100%\" x=\"0\" y=\"0px\"><defs /><text text-anchor=\"middle\" x=\"50%\" y=\"16px\">VBN</text></svg></svg><line stroke=\"black\" x1=\"50%\" x2=\"50%\" y1=\"20px\" y2=\"48px\" /></svg><line stroke=\"black\" x1=\"50%\" x2=\"16.0112%\" y1=\"20px\" y2=\"48px\" /><svg width=\"3.37079%\" x=\"17.9775%\" y=\"48px\"><defs /><svg width=\"100%\" x=\"0\" y=\"0px\"><defs /><text text-anchor=\"middle\" x=\"50%\" y=\"16px\">from</text></svg><svg width=\"100%\" x=\"0%\" y=\"48px\"><defs /><svg width=\"100%\" x=\"0\" y=\"0px\"><defs /><text text-anchor=\"middle\" x=\"50%\" y=\"16px\">IN</text></svg></svg><line stroke=\"black\" x1=\"50%\" x2=\"50%\" y1=\"20px\" y2=\"48px\" /></svg><line stroke=\"black\" x1=\"50%\" x2=\"19.6629%\" y1=\"20px\" y2=\"48px\" /><svg width=\"3.37079%\" x=\"21.3483%\" y=\"48px\"><defs /><svg width=\"100%\" x=\"0\" y=\"0px\"><defs /><text text-anchor=\"middle\" x=\"50%\" y=\"16px\">1887</text></svg><svg width=\"100%\" x=\"0%\" y=\"48px\"><defs /><svg width=\"100%\" x=\"0\" y=\"0px\"><defs /><text text-anchor=\"middle\" x=\"50%\" y=\"16px\">CD</text></svg></svg><line stroke=\"black\" x1=\"50%\" x2=\"50%\" y1=\"20px\" y2=\"48px\" /></svg><line stroke=\"black\" x1=\"50%\" x2=\"23.0337%\" y1=\"20px\" y2=\"48px\" /><svg width=\"2.24719%\" x=\"24.7191%\" y=\"48px\"><defs /><svg width=\"100%\" x=\"0\" y=\"0px\"><defs /><text text-anchor=\"middle\" x=\"50%\" y=\"16px\">to</text></svg><svg width=\"100%\" x=\"0%\" y=\"48px\"><defs /><svg width=\"100%\" x=\"0\" y=\"0px\"><defs /><text text-anchor=\"middle\" x=\"50%\" y=\"16px\">TO</text></svg></svg><line stroke=\"black\" x1=\"50%\" x2=\"50%\" y1=\"20px\" y2=\"48px\" /></svg><line stroke=\"black\" x1=\"50%\" x2=\"25.8427%\" y1=\"20px\" y2=\"48px\" /><svg width=\"3.37079%\" x=\"26.9663%\" y=\"48px\"><defs /><svg width=\"100%\" x=\"0\" y=\"0px\"><defs /><text text-anchor=\"middle\" x=\"50%\" y=\"16px\">1889</text></svg><svg width=\"100%\" x=\"0%\" y=\"48px\"><defs /><svg width=\"100%\" x=\"0\" y=\"0px\"><defs /><text text-anchor=\"middle\" x=\"50%\" y=\"16px\">CD</text></svg></svg><line stroke=\"black\" x1=\"50%\" x2=\"50%\" y1=\"20px\" y2=\"48px\" /></svg><line stroke=\"black\" x1=\"50%\" x2=\"28.6517%\" y1=\"20px\" y2=\"48px\" /><svg width=\"2.24719%\" x=\"30.3371%\" y=\"48px\"><defs /><svg width=\"100%\" x=\"0\" y=\"0px\"><defs /><text text-anchor=\"middle\" x=\"50%\" y=\"16px\">by</text></svg><svg width=\"100%\" x=\"0%\" y=\"48px\"><defs /><svg width=\"100%\" x=\"0\" y=\"0px\"><defs /><text text-anchor=\"middle\" x=\"50%\" y=\"16px\">IN</text></svg></svg><line stroke=\"black\" x1=\"50%\" x2=\"50%\" y1=\"20px\" y2=\"48px\" /></svg><line stroke=\"black\" x1=\"50%\" x2=\"31.4607%\" y1=\"20px\" y2=\"48px\" /><svg width=\"4.49438%\" x=\"32.5843%\" y=\"48px\"><defs /><svg width=\"100%\" x=\"0\" y=\"0px\"><defs /><text text-anchor=\"middle\" x=\"50%\" y=\"16px\">GPE</text></svg><svg width=\"100%\" x=\"0%\" y=\"48px\"><defs /><svg width=\"100%\" x=\"0\" y=\"0px\"><defs /><text text-anchor=\"middle\" x=\"50%\" y=\"16px\">French</text></svg><svg width=\"100%\" x=\"0%\" y=\"48px\"><defs /><svg width=\"100%\" x=\"0\" y=\"0px\"><defs /><text text-anchor=\"middle\" x=\"50%\" y=\"16px\">JJ</text></svg></svg><line stroke=\"black\" x1=\"50%\" x2=\"50%\" y1=\"20px\" y2=\"48px\" /></svg><line stroke=\"black\" x1=\"50%\" x2=\"50%\" y1=\"20px\" y2=\"48px\" /></svg><line stroke=\"black\" x1=\"50%\" x2=\"34.8315%\" y1=\"20px\" y2=\"48px\" /><svg width=\"5.61798%\" x=\"37.0787%\" y=\"48px\"><defs /><svg width=\"100%\" x=\"0\" y=\"0px\"><defs /><text text-anchor=\"middle\" x=\"50%\" y=\"16px\">engineer</text></svg><svg width=\"100%\" x=\"0%\" y=\"48px\"><defs /><svg width=\"100%\" x=\"0\" y=\"0px\"><defs /><text text-anchor=\"middle\" x=\"50%\" y=\"16px\">NN</text></svg></svg><line stroke=\"black\" x1=\"50%\" x2=\"50%\" y1=\"20px\" y2=\"48px\" /></svg><line stroke=\"black\" x1=\"50%\" x2=\"39.8876%\" y1=\"20px\" y2=\"48px\" /><svg width=\"9.55056%\" x=\"42.6966%\" y=\"48px\"><defs /><svg width=\"100%\" x=\"0\" y=\"0px\"><defs /><text text-anchor=\"middle\" x=\"50%\" y=\"16px\">PERSON</text></svg><svg width=\"52.9412%\" x=\"0%\" y=\"48px\"><defs /><svg width=\"100%\" x=\"0\" y=\"0px\"><defs /><text text-anchor=\"middle\" x=\"50%\" y=\"16px\">Gustave</text></svg><svg width=\"100%\" x=\"0%\" y=\"48px\"><defs /><svg width=\"100%\" x=\"0\" y=\"0px\"><defs /><text text-anchor=\"middle\" x=\"50%\" y=\"16px\">NNP</text></svg></svg><line stroke=\"black\" x1=\"50%\" x2=\"50%\" y1=\"20px\" y2=\"48px\" /></svg><line stroke=\"black\" x1=\"50%\" x2=\"26.4706%\" y1=\"20px\" y2=\"48px\" /><svg width=\"47.0588%\" x=\"52.9412%\" y=\"48px\"><defs /><svg width=\"100%\" x=\"0\" y=\"0px\"><defs /><text text-anchor=\"middle\" x=\"50%\" y=\"16px\">Eiffel</text></svg><svg width=\"100%\" x=\"0%\" y=\"48px\"><defs /><svg width=\"100%\" x=\"0\" y=\"0px\"><defs /><text text-anchor=\"middle\" x=\"50%\" y=\"16px\">NNP</text></svg></svg><line stroke=\"black\" x1=\"50%\" x2=\"50%\" y1=\"20px\" y2=\"48px\" /></svg><line stroke=\"black\" x1=\"50%\" x2=\"76.4706%\" y1=\"20px\" y2=\"48px\" /></svg><line stroke=\"black\" x1=\"50%\" x2=\"47.4719%\" y1=\"20px\" y2=\"48px\" /><svg width=\"1.68539%\" x=\"52.2472%\" y=\"48px\"><defs /><svg width=\"100%\" x=\"0\" y=\"0px\"><defs /><text text-anchor=\"middle\" x=\"50%\" y=\"16px\">,</text></svg><svg width=\"100%\" x=\"0%\" y=\"48px\"><defs /><svg width=\"100%\" x=\"0\" y=\"0px\"><defs /><text text-anchor=\"middle\" x=\"50%\" y=\"16px\">,</text></svg></svg><line stroke=\"black\" x1=\"50%\" x2=\"50%\" y1=\"20px\" y2=\"48px\" /></svg><line stroke=\"black\" x1=\"50%\" x2=\"53.0899%\" y1=\"20px\" y2=\"48px\" /><svg width=\"3.93258%\" x=\"53.9326%\" y=\"48px\"><defs /><svg width=\"100%\" x=\"0\" y=\"0px\"><defs /><text text-anchor=\"middle\" x=\"50%\" y=\"16px\">whose</text></svg><svg width=\"100%\" x=\"0%\" y=\"48px\"><defs /><svg width=\"100%\" x=\"0\" y=\"0px\"><defs /><text text-anchor=\"middle\" x=\"50%\" y=\"16px\">WP$</text></svg></svg><line stroke=\"black\" x1=\"50%\" x2=\"50%\" y1=\"20px\" y2=\"48px\" /></svg><line stroke=\"black\" x1=\"50%\" x2=\"55.8989%\" y1=\"20px\" y2=\"48px\" /><svg width=\"5.05618%\" x=\"57.8652%\" y=\"48px\"><defs /><svg width=\"100%\" x=\"0\" y=\"0px\"><defs /><text text-anchor=\"middle\" x=\"50%\" y=\"16px\">company</text></svg><svg width=\"100%\" x=\"0%\" y=\"48px\"><defs /><svg width=\"100%\" x=\"0\" y=\"0px\"><defs /><text text-anchor=\"middle\" x=\"50%\" y=\"16px\">NN</text></svg></svg><line stroke=\"black\" x1=\"50%\" x2=\"50%\" y1=\"20px\" y2=\"48px\" /></svg><line stroke=\"black\" x1=\"50%\" x2=\"60.3933%\" y1=\"20px\" y2=\"48px\" /><svg width=\"7.30337%\" x=\"62.9213%\" y=\"48px\"><defs /><svg width=\"100%\" x=\"0\" y=\"0px\"><defs /><text text-anchor=\"middle\" x=\"50%\" y=\"16px\">specialized</text></svg><svg width=\"100%\" x=\"0%\" y=\"48px\"><defs /><svg width=\"100%\" x=\"0\" y=\"0px\"><defs /><text text-anchor=\"middle\" x=\"50%\" y=\"16px\">VBD</text></svg></svg><line stroke=\"black\" x1=\"50%\" x2=\"50%\" y1=\"20px\" y2=\"48px\" /></svg><line stroke=\"black\" x1=\"50%\" x2=\"66.573%\" y1=\"20px\" y2=\"48px\" /><svg width=\"2.24719%\" x=\"70.2247%\" y=\"48px\"><defs /><svg width=\"100%\" x=\"0\" y=\"0px\"><defs /><text text-anchor=\"middle\" x=\"50%\" y=\"16px\">in</text></svg><svg width=\"100%\" x=\"0%\" y=\"48px\"><defs /><svg width=\"100%\" x=\"0\" y=\"0px\"><defs /><text text-anchor=\"middle\" x=\"50%\" y=\"16px\">IN</text></svg></svg><line stroke=\"black\" x1=\"50%\" x2=\"50%\" y1=\"20px\" y2=\"48px\" /></svg><line stroke=\"black\" x1=\"50%\" x2=\"71.3483%\" y1=\"20px\" y2=\"48px\" /><svg width=\"5.61798%\" x=\"72.4719%\" y=\"48px\"><defs /><svg width=\"100%\" x=\"0\" y=\"0px\"><defs /><text text-anchor=\"middle\" x=\"50%\" y=\"16px\">building</text></svg><svg width=\"100%\" x=\"0%\" y=\"48px\"><defs /><svg width=\"100%\" x=\"0\" y=\"0px\"><defs /><text text-anchor=\"middle\" x=\"50%\" y=\"16px\">NN</text></svg></svg><line stroke=\"black\" x1=\"50%\" x2=\"50%\" y1=\"20px\" y2=\"48px\" /></svg><line stroke=\"black\" x1=\"50%\" x2=\"75.2809%\" y1=\"20px\" y2=\"48px\" /><svg width=\"3.93258%\" x=\"78.0899%\" y=\"48px\"><defs /><svg width=\"100%\" x=\"0\" y=\"0px\"><defs /><text text-anchor=\"middle\" x=\"50%\" y=\"16px\">metal</text></svg><svg width=\"100%\" x=\"0%\" y=\"48px\"><defs /><svg width=\"100%\" x=\"0\" y=\"0px\"><defs /><text text-anchor=\"middle\" x=\"50%\" y=\"16px\">NN</text></svg></svg><line stroke=\"black\" x1=\"50%\" x2=\"50%\" y1=\"20px\" y2=\"48px\" /></svg><line stroke=\"black\" x1=\"50%\" x2=\"80.0562%\" y1=\"20px\" y2=\"48px\" /><svg width=\"6.74157%\" x=\"82.0225%\" y=\"48px\"><defs /><svg width=\"100%\" x=\"0\" y=\"0px\"><defs /><text text-anchor=\"middle\" x=\"50%\" y=\"16px\">frameworks</text></svg><svg width=\"100%\" x=\"0%\" y=\"48px\"><defs /><svg width=\"100%\" x=\"0\" y=\"0px\"><defs /><text text-anchor=\"middle\" x=\"50%\" y=\"16px\">NNS</text></svg></svg><line stroke=\"black\" x1=\"50%\" x2=\"50%\" y1=\"20px\" y2=\"48px\" /></svg><line stroke=\"black\" x1=\"50%\" x2=\"85.3933%\" y1=\"20px\" y2=\"48px\" /><svg width=\"2.80899%\" x=\"88.764%\" y=\"48px\"><defs /><svg width=\"100%\" x=\"0\" y=\"0px\"><defs /><text text-anchor=\"middle\" x=\"50%\" y=\"16px\">and</text></svg><svg width=\"100%\" x=\"0%\" y=\"48px\"><defs /><svg width=\"100%\" x=\"0\" y=\"0px\"><defs /><text text-anchor=\"middle\" x=\"50%\" y=\"16px\">CC</text></svg></svg><line stroke=\"black\" x1=\"50%\" x2=\"50%\" y1=\"20px\" y2=\"48px\" /></svg><line stroke=\"black\" x1=\"50%\" x2=\"90.1685%\" y1=\"20px\" y2=\"48px\" /><svg width=\"6.74157%\" x=\"91.573%\" y=\"48px\"><defs /><svg width=\"100%\" x=\"0\" y=\"0px\"><defs /><text text-anchor=\"middle\" x=\"50%\" y=\"16px\">structures</text></svg><svg width=\"100%\" x=\"0%\" y=\"48px\"><defs /><svg width=\"100%\" x=\"0\" y=\"0px\"><defs /><text text-anchor=\"middle\" x=\"50%\" y=\"16px\">NNS</text></svg></svg><line stroke=\"black\" x1=\"50%\" x2=\"50%\" y1=\"20px\" y2=\"48px\" /></svg><line stroke=\"black\" x1=\"50%\" x2=\"94.9438%\" y1=\"20px\" y2=\"48px\" /><svg width=\"1.68539%\" x=\"98.3146%\" y=\"48px\"><defs /><svg width=\"100%\" x=\"0\" y=\"0px\"><defs /><text text-anchor=\"middle\" x=\"50%\" y=\"16px\">.</text></svg><svg width=\"100%\" x=\"0%\" y=\"48px\"><defs /><svg width=\"100%\" x=\"0\" y=\"0px\"><defs /><text text-anchor=\"middle\" x=\"50%\" y=\"16px\">.</text></svg></svg><line stroke=\"black\" x1=\"50%\" x2=\"50%\" y1=\"20px\" y2=\"48px\" /></svg><line stroke=\"black\" x1=\"50%\" x2=\"99.1573%\" y1=\"20px\" y2=\"48px\" /></svg>"
          },
          "metadata": {},
          "execution_count": 46
        }
      ]
    },
    {
      "cell_type": "markdown",
      "source": [
        "# **Bag of Words**\n"
      ],
      "metadata": {
        "id": "dNiQickgP74P"
      }
    },
    {
      "cell_type": "code",
      "source": [
        "from google.colab import files\n",
        "uploaded = files.upload()"
      ],
      "metadata": {
        "id": "KvV0Vc86JtPF",
        "colab": {
          "base_uri": "https://localhost:8080/",
          "height": 73
        },
        "outputId": "0167c819-f25a-400e-c9a2-f4cb7ce4668b"
      },
      "execution_count": 59,
      "outputs": [
        {
          "output_type": "display_data",
          "data": {
            "text/plain": [
              "<IPython.core.display.HTML object>"
            ],
            "text/html": [
              "\n",
              "     <input type=\"file\" id=\"files-09e63b58-b120-4d55-85ae-fbfd54a28663\" name=\"files[]\" multiple disabled\n",
              "        style=\"border:none\" />\n",
              "     <output id=\"result-09e63b58-b120-4d55-85ae-fbfd54a28663\">\n",
              "      Upload widget is only available when the cell has been executed in the\n",
              "      current browser session. Please rerun this cell to enable.\n",
              "      </output>\n",
              "      <script>// Copyright 2017 Google LLC\n",
              "//\n",
              "// Licensed under the Apache License, Version 2.0 (the \"License\");\n",
              "// you may not use this file except in compliance with the License.\n",
              "// You may obtain a copy of the License at\n",
              "//\n",
              "//      http://www.apache.org/licenses/LICENSE-2.0\n",
              "//\n",
              "// Unless required by applicable law or agreed to in writing, software\n",
              "// distributed under the License is distributed on an \"AS IS\" BASIS,\n",
              "// WITHOUT WARRANTIES OR CONDITIONS OF ANY KIND, either express or implied.\n",
              "// See the License for the specific language governing permissions and\n",
              "// limitations under the License.\n",
              "\n",
              "/**\n",
              " * @fileoverview Helpers for google.colab Python module.\n",
              " */\n",
              "(function(scope) {\n",
              "function span(text, styleAttributes = {}) {\n",
              "  const element = document.createElement('span');\n",
              "  element.textContent = text;\n",
              "  for (const key of Object.keys(styleAttributes)) {\n",
              "    element.style[key] = styleAttributes[key];\n",
              "  }\n",
              "  return element;\n",
              "}\n",
              "\n",
              "// Max number of bytes which will be uploaded at a time.\n",
              "const MAX_PAYLOAD_SIZE = 100 * 1024;\n",
              "\n",
              "function _uploadFiles(inputId, outputId) {\n",
              "  const steps = uploadFilesStep(inputId, outputId);\n",
              "  const outputElement = document.getElementById(outputId);\n",
              "  // Cache steps on the outputElement to make it available for the next call\n",
              "  // to uploadFilesContinue from Python.\n",
              "  outputElement.steps = steps;\n",
              "\n",
              "  return _uploadFilesContinue(outputId);\n",
              "}\n",
              "\n",
              "// This is roughly an async generator (not supported in the browser yet),\n",
              "// where there are multiple asynchronous steps and the Python side is going\n",
              "// to poll for completion of each step.\n",
              "// This uses a Promise to block the python side on completion of each step,\n",
              "// then passes the result of the previous step as the input to the next step.\n",
              "function _uploadFilesContinue(outputId) {\n",
              "  const outputElement = document.getElementById(outputId);\n",
              "  const steps = outputElement.steps;\n",
              "\n",
              "  const next = steps.next(outputElement.lastPromiseValue);\n",
              "  return Promise.resolve(next.value.promise).then((value) => {\n",
              "    // Cache the last promise value to make it available to the next\n",
              "    // step of the generator.\n",
              "    outputElement.lastPromiseValue = value;\n",
              "    return next.value.response;\n",
              "  });\n",
              "}\n",
              "\n",
              "/**\n",
              " * Generator function which is called between each async step of the upload\n",
              " * process.\n",
              " * @param {string} inputId Element ID of the input file picker element.\n",
              " * @param {string} outputId Element ID of the output display.\n",
              " * @return {!Iterable<!Object>} Iterable of next steps.\n",
              " */\n",
              "function* uploadFilesStep(inputId, outputId) {\n",
              "  const inputElement = document.getElementById(inputId);\n",
              "  inputElement.disabled = false;\n",
              "\n",
              "  const outputElement = document.getElementById(outputId);\n",
              "  outputElement.innerHTML = '';\n",
              "\n",
              "  const pickedPromise = new Promise((resolve) => {\n",
              "    inputElement.addEventListener('change', (e) => {\n",
              "      resolve(e.target.files);\n",
              "    });\n",
              "  });\n",
              "\n",
              "  const cancel = document.createElement('button');\n",
              "  inputElement.parentElement.appendChild(cancel);\n",
              "  cancel.textContent = 'Cancel upload';\n",
              "  const cancelPromise = new Promise((resolve) => {\n",
              "    cancel.onclick = () => {\n",
              "      resolve(null);\n",
              "    };\n",
              "  });\n",
              "\n",
              "  // Wait for the user to pick the files.\n",
              "  const files = yield {\n",
              "    promise: Promise.race([pickedPromise, cancelPromise]),\n",
              "    response: {\n",
              "      action: 'starting',\n",
              "    }\n",
              "  };\n",
              "\n",
              "  cancel.remove();\n",
              "\n",
              "  // Disable the input element since further picks are not allowed.\n",
              "  inputElement.disabled = true;\n",
              "\n",
              "  if (!files) {\n",
              "    return {\n",
              "      response: {\n",
              "        action: 'complete',\n",
              "      }\n",
              "    };\n",
              "  }\n",
              "\n",
              "  for (const file of files) {\n",
              "    const li = document.createElement('li');\n",
              "    li.append(span(file.name, {fontWeight: 'bold'}));\n",
              "    li.append(span(\n",
              "        `(${file.type || 'n/a'}) - ${file.size} bytes, ` +\n",
              "        `last modified: ${\n",
              "            file.lastModifiedDate ? file.lastModifiedDate.toLocaleDateString() :\n",
              "                                    'n/a'} - `));\n",
              "    const percent = span('0% done');\n",
              "    li.appendChild(percent);\n",
              "\n",
              "    outputElement.appendChild(li);\n",
              "\n",
              "    const fileDataPromise = new Promise((resolve) => {\n",
              "      const reader = new FileReader();\n",
              "      reader.onload = (e) => {\n",
              "        resolve(e.target.result);\n",
              "      };\n",
              "      reader.readAsArrayBuffer(file);\n",
              "    });\n",
              "    // Wait for the data to be ready.\n",
              "    let fileData = yield {\n",
              "      promise: fileDataPromise,\n",
              "      response: {\n",
              "        action: 'continue',\n",
              "      }\n",
              "    };\n",
              "\n",
              "    // Use a chunked sending to avoid message size limits. See b/62115660.\n",
              "    let position = 0;\n",
              "    do {\n",
              "      const length = Math.min(fileData.byteLength - position, MAX_PAYLOAD_SIZE);\n",
              "      const chunk = new Uint8Array(fileData, position, length);\n",
              "      position += length;\n",
              "\n",
              "      const base64 = btoa(String.fromCharCode.apply(null, chunk));\n",
              "      yield {\n",
              "        response: {\n",
              "          action: 'append',\n",
              "          file: file.name,\n",
              "          data: base64,\n",
              "        },\n",
              "      };\n",
              "\n",
              "      let percentDone = fileData.byteLength === 0 ?\n",
              "          100 :\n",
              "          Math.round((position / fileData.byteLength) * 100);\n",
              "      percent.textContent = `${percentDone}% done`;\n",
              "\n",
              "    } while (position < fileData.byteLength);\n",
              "  }\n",
              "\n",
              "  // All done.\n",
              "  yield {\n",
              "    response: {\n",
              "      action: 'complete',\n",
              "    }\n",
              "  };\n",
              "}\n",
              "\n",
              "scope.google = scope.google || {};\n",
              "scope.google.colab = scope.google.colab || {};\n",
              "scope.google.colab._files = {\n",
              "  _uploadFiles,\n",
              "  _uploadFilesContinue,\n",
              "};\n",
              "})(self);\n",
              "</script> "
            ]
          },
          "metadata": {}
        },
        {
          "output_type": "stream",
          "name": "stdout",
          "text": [
            "Saving spam.csv to spam (1).csv\n"
          ]
        }
      ]
    },
    {
      "cell_type": "code",
      "source": [
        "import pandas as pd\n",
        "import io"
      ],
      "metadata": {
        "id": "0ulmWYaD3Ki7"
      },
      "execution_count": 66,
      "outputs": []
    },
    {
      "cell_type": "code",
      "source": [
        "df = pd.read_csv(io.StringIO(uploaded['spam (1).csv'].decode(\"ISO-8859-1\")), header=0, names=[\"label\", \"message\",\"a\", \"b\", \"c\"])\n",
        "messages = df.iloc[:,:-3]\n",
        "\n"
      ],
      "metadata": {
        "id": "9kiFkkgQ3Qng"
      },
      "execution_count": 101,
      "outputs": []
    },
    {
      "cell_type": "markdown",
      "source": [
        "Data Cleaning & Preprocessing\n"
      ],
      "metadata": {
        "id": "4Qvl83hwCesq"
      }
    },
    {
      "metadata": {
        "id": "CJ9ijZC3Q1Xl",
        "colab": {
          "base_uri": "https://localhost:8080/"
        },
        "outputId": "d42ca2c6-9549-4b16-ac49-c641bad27431"
      },
      "source": [
        "import re\n",
        "import nltk\n",
        "nltk.download('stopwords')"
      ],
      "cell_type": "code",
      "execution_count": 84,
      "outputs": [
        {
          "output_type": "stream",
          "name": "stderr",
          "text": [
            "[nltk_data] Downloading package stopwords to /root/nltk_data...\n",
            "[nltk_data]   Package stopwords is already up-to-date!\n"
          ]
        },
        {
          "output_type": "execute_result",
          "data": {
            "text/plain": [
              "True"
            ]
          },
          "metadata": {},
          "execution_count": 84
        }
      ]
    },
    {
      "cell_type": "code",
      "source": [
        "from nltk.corpus import stopwords\n",
        "from nltk.stem.porter import PorterStemmer\n",
        "\n",
        "ps=PorterStemmer()"
      ],
      "metadata": {
        "id": "Om0OBtIH3ZsM"
      },
      "execution_count": 85,
      "outputs": []
    },
    {
      "cell_type": "code",
      "source": [
        "corpus=[]\n",
        "for i in range(0, len(messages)):\n",
        "  review=re.sub('[^a-zA-Z]', ' ', messages['message'][i])\n",
        "  review=review.lower()\n",
        "  review=review.split()\n",
        "  review=[ps.stem(word) for word in review if not word in stopwords.words('english')]\n",
        "  review=' '.join(review)\n",
        "  corpus.append(review)"
      ],
      "metadata": {
        "id": "SxgmbtoWC7yj"
      },
      "execution_count": 106,
      "outputs": []
    },
    {
      "cell_type": "code",
      "source": [
        "corpus"
      ],
      "metadata": {
        "colab": {
          "base_uri": "https://localhost:8080/"
        },
        "id": "MbtriXayFlg5",
        "outputId": "48285029-74af-4749-aee0-e27f9edb2e25"
      },
      "execution_count": 107,
      "outputs": [
        {
          "output_type": "execute_result",
          "data": {
            "text/plain": [
              "['go jurong point crazi avail bugi n great world la e buffet cine got amor wat',\n",
              " 'ok lar joke wif u oni',\n",
              " 'free entri wkli comp win fa cup final tkt st may text fa receiv entri question std txt rate c appli',\n",
              " 'u dun say earli hor u c alreadi say',\n",
              " 'nah think goe usf live around though',\n",
              " 'freemsg hey darl week word back like fun still tb ok xxx std chg send rcv',\n",
              " 'even brother like speak treat like aid patent',\n",
              " 'per request mell mell oru minnaminungint nurungu vettam set callertun caller press copi friend callertun',\n",
              " 'winner valu network custom select receivea prize reward claim call claim code kl valid hour',\n",
              " 'mobil month u r entitl updat latest colour mobil camera free call mobil updat co free',\n",
              " 'gonna home soon want talk stuff anymor tonight k cri enough today',\n",
              " 'six chanc win cash pound txt csh send cost p day day tsandc appli repli hl info',\n",
              " 'urgent week free membership prize jackpot txt word claim c www dbuk net lccltd pobox ldnw rw',\n",
              " 'search right word thank breather promis wont take help grant fulfil promis wonder bless time',\n",
              " 'date sunday',\n",
              " 'xxxmobilemovieclub use credit click wap link next txt messag click http wap xxxmobilemovieclub com n qjkgighjjgcbl',\n",
              " 'oh k watch',\n",
              " 'eh u rememb spell name ye v naughti make v wet',\n",
              " 'fine way u feel way gota b',\n",
              " 'england v macedonia dont miss goal team news txt ur nation team eg england tri wale scotland txt poboxox w wq',\n",
              " 'serious spell name',\n",
              " 'go tri month ha ha joke',\n",
              " 'pay first lar da stock comin',\n",
              " 'aft finish lunch go str lor ard smth lor u finish ur lunch alreadi',\n",
              " 'ffffffffff alright way meet sooner',\n",
              " 'forc eat slice realli hungri tho suck mark get worri know sick turn pizza lol',\n",
              " 'lol alway convinc',\n",
              " 'catch bu fri egg make tea eat mom left dinner feel love',\n",
              " 'back amp pack car let know room',\n",
              " 'ahhh work vagu rememb feel like lol',\n",
              " 'wait still clear sure sarcast x want live us',\n",
              " 'yeah got v apologet n fallen actin like spoilt child got caught till go badli cheer',\n",
              " 'k tell anyth',\n",
              " 'fear faint housework quick cuppa',\n",
              " 'thank subscript rington uk mobil charg month pleas confirm repli ye repli charg',\n",
              " 'yup ok go home look time msg xuhui go learn nd may lesson',\n",
              " 'oop let know roommat done',\n",
              " 'see letter b car',\n",
              " 'anyth lor u decid',\n",
              " 'hello saturday go text see decid anyth tomo tri invit anyth',\n",
              " 'pl go ahead watt want sure great weekend abiola',\n",
              " 'forget tell want need crave love sweet arabian steed mmmmmm yummi',\n",
              " 'rodger burn msg tri call repli sm free nokia mobil free camcord pleas call deliveri tomorrow',\n",
              " 'see',\n",
              " 'great hope like man well endow lt gt inch',\n",
              " 'call messag miss call',\n",
              " 'get hep b immunis nigeria',\n",
              " 'fair enough anyth go',\n",
              " 'yeah hope tyler could mayb ask around bit',\n",
              " 'u know stubborn even want go hospit kept tell mark weak sucker hospit weak sucker',\n",
              " 'think first time saw class',\n",
              " 'gram usual run like lt gt half eighth smarter though get almost whole second gram lt gt',\n",
              " 'k fyi x ride earli tomorrow morn crash place tonight',\n",
              " 'wow never realiz embarass accomod thought like sinc best could alway seem happi cave sorri give sorri offer sorri room embarass',\n",
              " 'sm ac sptv new jersey devil detroit red wing play ice hockey correct incorrect end repli end sptv',\n",
              " 'know mallika sherawat yesterday find lt url gt',\n",
              " 'congrat year special cinema pass call c suprman v matrix starwar etc free bx ip pm dont miss',\n",
              " 'sorri call later meet',\n",
              " 'tell reach',\n",
              " 'ye gauti sehwag odi seri',\n",
              " 'gonna pick burger way home even move pain kill',\n",
              " 'ha ha ha good joke girl situat seeker',\n",
              " 'part check iq',\n",
              " 'sorri roommat took forev ok come',\n",
              " 'ok lar doubl check wif da hair dresser alreadi said wun cut v short said cut look nice',\n",
              " 'valu custom pleas advis follow recent review mob award bonu prize call',\n",
              " 'today song dedic day song u dedic send ur valuabl frnd first rpli',\n",
              " 'urgent ur award complimentari trip eurodisinc trav aco entri claim txt di morefrmmob shracomorsglsuplt ls aj',\n",
              " 'hear new divorc barbi come ken stuff',\n",
              " 'plane give month end',\n",
              " 'wah lucki man save money hee',\n",
              " 'finish class',\n",
              " 'hi babe im home wanna someth xx',\n",
              " 'k k perform',\n",
              " 'u call',\n",
              " 'wait machan call free',\n",
              " 'that cool gentleman treat digniti respect',\n",
              " 'like peopl much shi pa',\n",
              " 'oper lt gt',\n",
              " 'still look job much ta earn',\n",
              " 'sorri call later',\n",
              " 'k call ah',\n",
              " 'ok way home hi hi',\n",
              " 'place man',\n",
              " 'yup next stop',\n",
              " 'call later network urgnt sm',\n",
              " 'real u get yo need ticket one jacket done alreadi use multi',\n",
              " 'ye start send request make pain came back back bed doubl coin factori gotta cash nitro',\n",
              " 'realli still tonight babe',\n",
              " 'ela kano il download come wen ur free',\n",
              " 'yeah stand close tho catch someth',\n",
              " 'sorri pain ok meet anoth night spent late afternoon casualti mean done stuff moro includ time sheet sorri',\n",
              " 'smile pleasur smile pain smile troubl pour like rain smile sum hurt u smile becoz someon still love see u smile',\n",
              " 'pleas call custom servic repres pm guarante cash prize',\n",
              " 'havent plan buy later check alreadi lido got show e afternoon u finish work alreadi',\n",
              " 'free rington wait collect simpli text password mix verifi get usher britney fml',\n",
              " 'watch telugu movi wat abt u',\n",
              " 'see finish load loan pay',\n",
              " 'hi wk ok hol ye bit run forgot hairdress appoint four need get home n shower beforehand caus prob u ham',\n",
              " 'pleas text anymor noth els say',\n",
              " 'okay name ur price long legal wen pick u ave x am xx',\n",
              " 'still look car buy gone drive test yet',\n",
              " 'per request mell mell oru minnaminungint nurungu vettam set callertun caller press copi friend callertun',\n",
              " 'wow right mean guess gave boston men chang search locat nyc someth chang cuz signin page still say boston',\n",
              " 'umma life vava umma love lot dear',\n",
              " 'thank lot wish birthday thank make birthday truli memor',\n",
              " 'aight hit get cash',\n",
              " 'would ip address test consid comput minecraft server',\n",
              " 'know grumpi old peopl mom like better lie alway one play joke',\n",
              " 'dont worri guess busi',\n",
              " 'plural noun research',\n",
              " 'go dinner msg',\n",
              " 'ok wif co like tri new thing scare u dun like mah co u said loud',\n",
              " 'gent tri contact last weekend draw show prize guarante call claim code k valid hr ppm',\n",
              " 'wa ur openin sentenc formal anyway fine juz tt eatin much n puttin weight haha anythin special happen',\n",
              " 'enter cabin pa said happi b day boss felt special askd lunch lunch invit apart went',\n",
              " 'winner u special select receiv holiday flight inc speak live oper claim p min',\n",
              " 'goodo ye must speak friday egg potato ratio tortilla need',\n",
              " 'hmm uncl inform pay school directli pl buy food',\n",
              " 'privat account statement show unredeem bonu point claim call identifi code expir',\n",
              " 'urgent mobil award bonu caller prize final tri contact u call landlin box wr c ppm',\n",
              " 'new address appl pair malarki',\n",
              " 'today voda number end select receiv award match pleas call quot claim code standard rate app',\n",
              " 'go sao mu today done',\n",
              " 'predict wat time finish buy',\n",
              " 'good stuff',\n",
              " 'know yetund sent money yet sent text bother send dont involv anyth impos anyth first place apologis',\n",
              " 'room',\n",
              " 'hey girl r u hope u r well del r bak long time c give call sum time lucyxx',\n",
              " 'k k much cost',\n",
              " 'home',\n",
              " 'dear call tmorrow pl accomod',\n",
              " 'first answer question',\n",
              " 'sunshin quiz wkli q win top soni dvd player u know countri algarv txt ansr sp tyron',\n",
              " 'want get laid tonight want real dog locat sent direct ur mob join uk largest dog network bt txting gravel nt ec p msg p',\n",
              " 'haf msn yiju hotmail com',\n",
              " 'call meet',\n",
              " 'check room befor activ',\n",
              " 'rcv msg chat svc free hardcor servic text go u get noth u must age verifi yr network tri',\n",
              " 'got c lazi type forgot lect saw pouch like v nice',\n",
              " 'k text way',\n",
              " 'sir wait mail',\n",
              " 'swt thought nver get tire littl thing lovabl person coz somtim littl thing occupi biggest part heart gud ni',\n",
              " 'know pl open back',\n",
              " 'ye see ya dot',\n",
              " 'what staff name take class us',\n",
              " 'freemsg repli text randi sexi femal live local luv hear u netcollex ltd p per msg repli stop end',\n",
              " 'ummma call check life begin qatar pl pray hard',\n",
              " 'k delet contact',\n",
              " 'sindu got job birla soft',\n",
              " 'wine flow never',\n",
              " 'yup thk cine better co need go plaza mah',\n",
              " 'ok ur typic repli',\n",
              " 'per request mell mell oru minnaminungint nurungu vettam set callertun caller press copi friend callertun',\n",
              " 'everywher dirt floor window even shirt sometim open mouth come flow dream world without half chore time joy lot tv show see guess like thing must exist like rain hail mist time done becom one',\n",
              " 'aaooooright work',\n",
              " 'leav hous',\n",
              " 'hello love get interview today happi good boy think miss',\n",
              " 'custom servic annonc new year deliveri wait pleas call arrang deliveri',\n",
              " 'winner u special select receiv cash holiday flight inc speak live oper claim',\n",
              " 'keep safe need miss alreadi envi everyon see real life',\n",
              " 'new car hous parent new job hand',\n",
              " 'love excit day spend make happi',\n",
              " 'pl stop bootydeli f invit friend repli ye see www sm ac u bootydeli stop send stop frnd',\n",
              " 'bangbab ur order way u receiv servic msg download ur content u goto wap bangb tv ur mobil internet servic menu',\n",
              " 'place ur point e cultur modul alreadi',\n",
              " 'urgent tri contact last weekend draw show prize guarante call claim code valid hr',\n",
              " 'hi frnd best way avoid missunderstd wit belov one',\n",
              " 'great escap fanci bridg need lager see tomo',\n",
              " 'ye complet form clark also utter wast',\n",
              " 'sir need axi bank account bank address',\n",
              " 'hmmm thk sure got time hop ard ya go free abt muz call u discuss liao',\n",
              " 'time come later',\n",
              " 'bloodi hell cant believ forgot surnam mr ill give u clue spanish begin',\n",
              " 'well gonna finish bath good fine night',\n",
              " 'let know got money carlo make call',\n",
              " 'u still go mall',\n",
              " 'turn friend stay whole show back til lt gt feel free go ahead smoke lt gt worth',\n",
              " 'text doesnt repli let know log',\n",
              " 'hi spoke maneesha v like know satisfi experi repli toll free ye',\n",
              " 'lift hope offer money need especi end month approach hurt studi anyway gr weekend',\n",
              " 'lol u trust',\n",
              " 'ok gentleman treat digniti respect',\n",
              " 'guy close',\n",
              " 'go noth great bye',\n",
              " 'hello handsom find job lazi work toward get back net mummi boytoy miss',\n",
              " 'haha awesom minut',\n",
              " 'pleas call custom servic repres freephon pm guarante cash prize',\n",
              " 'got xma radio time get',\n",
              " 'ju reach home go bath first si use net tell u finish k',\n",
              " 'uniqu enough find th august www areyouuniqu co uk',\n",
              " 'sorri join leagu peopl dont keep touch mean great deal friend time even great person cost great week',\n",
              " 'hi final complet cours',\n",
              " 'stop howev suggest stay someon abl give or everi stool',\n",
              " 'hope settl new school year wishin gr day',\n",
              " 'gud mrng dear hav nice day',\n",
              " 'u got person stori',\n",
              " 'hamster dead hey tmr meet pm orchard mrt',\n",
              " 'hi kate even hope see tomorrow bit bloodi babyjontet txt back u xxx',\n",
              " 'found enc lt gt',\n",
              " 'sent lt gt buck',\n",
              " 'hello darlin ive finish colleg txt u finish u love kate xxx',\n",
              " 'account refil success inr lt decim gt keralacircl prepaid account balanc rs lt decim gt transact id kr lt gt',\n",
              " 'goodmorn sleep ga',\n",
              " 'u call alter ok',\n",
              " 'say like dat dun buy ericsson oso cannot oredi lar',\n",
              " 'enter cabin pa said happi b day boss felt special askd lunch lunch invit apart went',\n",
              " 'aight yo dat straight dogg',\n",
              " 'pleas give us connect today lt decim gt refund bill',\n",
              " 'shoot big load get readi',\n",
              " 'bruv hope great break reward semest',\n",
              " 'home alway chat',\n",
              " 'k k good studi well',\n",
              " 'yup noe leh',\n",
              " 'sound great home',\n",
              " 'final match head toward draw predict',\n",
              " 'tire slept well past night',\n",
              " 'easi ah sen got select mean good',\n",
              " 'take exam march',\n",
              " 'yeah think use gt atm regist sure anyway help let know sure readi',\n",
              " 'ok prob take ur time',\n",
              " 'os call ubandu run without instal hard disk use os copi import file system give repair shop',\n",
              " 'sorri call later',\n",
              " 'u say leh cours noth happen lar say v romant ju bit lor thk e nite sceneri nice leh',\n",
              " 'new mobil must go txt nokia collect today www tc biz optout gbp mtmsg',\n",
              " 'would realli appreci call need someon talk',\n",
              " 'u meet ur dream partner soon ur career flyng start find free txt horo follow ur star sign e g horo ari',\n",
              " 'hey compani elama po mudyadhu',\n",
              " 'life strict teacher bcoz teacher teach lesson amp conduct exam life first conduct exam amp teach lesson happi morn',\n",
              " 'dear good morn',\n",
              " 'get gandhipuram walk cross cut road right side lt gt street road turn first right',\n",
              " 'dear go rubber place',\n",
              " 'sorri batteri die yeah',\n",
              " 'ye tv alway avail work place',\n",
              " 'text meet someon sexi today u find date even flirt u join p repli name age eg sam msg recd thirtyeight penc',\n",
              " 'print oh lt gt come upstair',\n",
              " 'ill littl closer like bu stop street',\n",
              " 'wil reach',\n",
              " 'new theori argument win situat lose person dont argu ur friend kick amp say alway correct',\n",
              " 'u secret admir look make contact u find r reveal think ur special call',\n",
              " 'tomarrow final hear laptop case cant',\n",
              " 'pleassssssseeeee tel v avent done sportsx',\n",
              " 'okay shine meant sign sound better',\n",
              " 'although told u dat baig face watch realli like e watch u gave co fr u thanx everyth dat u done today touch',\n",
              " 'u rememb old commerci',\n",
              " 'late said websit dont slipper',\n",
              " 'ask call ok',\n",
              " 'kalli wont bat nd inning',\n",
              " 'didnt work oh ok goodnight fix readi time wake dearli miss good night sleep',\n",
              " 'congratul ur award cd voucher gift guarante free entri wkli draw txt music tnc www ldew com win ppmx age',\n",
              " 'ranjith cal drpd deeraj deepak min hold',\n",
              " 'wen ur lovabl bcum angri wid u dnt take serious coz angri childish n true way show deep affect care n luv kettoda manda nice day da',\n",
              " '',\n",
              " 'up day also ship compani take wk way usp take week get lag may bribe nipost get stuff',\n",
              " 'back lemm know readi',\n",
              " 'necessarili expect done get back though headin',\n",
              " 'mmm yummi babe nice jolt suzi',\n",
              " 'lover need',\n",
              " 'tri contact repli offer video handset anytim network min unlimit text camcord repli call',\n",
              " 'park next mini come today think',\n",
              " 'yup',\n",
              " 'anyway go shop co si done yet dun disturb u liao',\n",
              " 'luton ring ur around h',\n",
              " 'hey realli horni want chat see nake text hot text charg pm unsubscrib text stop',\n",
              " 'dint come us',\n",
              " 'wana plan trip sometm',\n",
              " 'sure yet still tri get hold',\n",
              " 'ur rington servic chang free credit go club mobil com choos content stop txt club stop p wk club po box mk wt',\n",
              " 'evo download flash jealou',\n",
              " 'rington club get uk singl chart mobil week choos top qualiti rington messag free charg',\n",
              " 'come mu sort narcot situat',\n",
              " 'night end anoth day morn come special way may smile like sunni ray leav worri blue blue bay',\n",
              " 'hmv bonu special pound genuin hmv voucher answer easi question play send hmv info www percent real com',\n",
              " 'usf guess might well take car',\n",
              " 'object bf come',\n",
              " 'thanx',\n",
              " 'tell rob mack gf theater',\n",
              " 'awesom see bit',\n",
              " 'sent type food like',\n",
              " 'done hand celebr full swing yet',\n",
              " 'got call tool',\n",
              " 'wen u miss someon',\n",
              " 'ok ask money far',\n",
              " 'oki',\n",
              " 'yeah think usual guy still pass last night get ahold anybodi let know throw',\n",
              " 'k might come tonight class let earli',\n",
              " 'ok',\n",
              " 'hi babi im cruisin girl friend r u give call hour home that alright fone fone love jenni xxx',\n",
              " 'life mean lot love life love peopl life world call friend call world ge',\n",
              " 'dear shall mail tonit busi street shall updat tonit thing look ok varunnathu edukkukaye raksha ollu good one real sens',\n",
              " 'hey told name gautham ah',\n",
              " 'haf u found feel stupid da v cam work',\n",
              " 'oop got bit',\n",
              " 'much buzi',\n",
              " 'accident delet messag resend pleas',\n",
              " 'mobil custom may claim free camera phone upgrad pay go sim card loyalti call offer end thfeb c appli',\n",
              " 'unless situat go gurl would appropri',\n",
              " 'hurt teas make cri end life die plz keep one rose grave say stupid miss u nice day bslvyl',\n",
              " 'cant pick phone right pl send messag',\n",
              " 'need coffe run tomo believ time week alreadi',\n",
              " 'awesom rememb last time got somebodi high first time diesel v',\n",
              " 'shit realli shock scari cant imagin second def night u think somewher could crash night save taxi',\n",
              " 'oh way food fridg want go meal tonight',\n",
              " 'womdarful actor',\n",
              " 'sm ac blind date u rodd aberdeen unit kingdom check http img sm ac w icmb cktz r blind date send hide',\n",
              " 'yup remb think book',\n",
              " 'jo ask u wana meet',\n",
              " 'lol ye friendship hang thread caus u buy stuff',\n",
              " 'themob check newest select content game tone gossip babe sport keep mobil fit funki text wap',\n",
              " 'garag key bookshelf',\n",
              " 'today accept day u accept brother sister lover dear best clo lvblefrnd jstfrnd cutefrnd lifpartnr belovd swtheart bstfrnd rpli mean enemi',\n",
              " 'think ur smart win week weekli quiz text play cs winnersclub po box uz gbp week',\n",
              " 'say give call friend got money definit buy end week',\n",
              " 'hi way u day normal way real ur uniqu hope know u rest mylif hope u find wot lost',\n",
              " 'made day great day',\n",
              " 'k k advanc happi pongal',\n",
              " 'hmmm guess go kb n power yoga haha dunno tahan power yoga anot thk got lo oso forgot liao',\n",
              " 'realli dude friend afraid',\n",
              " 'decemb mobil mth entitl updat latest colour camera mobil free call mobil updat co free',\n",
              " 'coffe cake guess',\n",
              " 'merri christma babe love ya kiss',\n",
              " 'hey dont go watch x men lunch haha',\n",
              " 'cud u tell ppl im gona b bit l co buse hav gon past co full im still waitin pete x',\n",
              " 'would great guild could meet bristol road somewher get touch weekend plan take flight good week',\n",
              " 'problem',\n",
              " 'call messag miss call',\n",
              " 'hi da today class',\n",
              " 'say good sign well know track record read women',\n",
              " 'cool text park',\n",
              " 'read text sent meant joke read light',\n",
              " 'k k apo k good movi',\n",
              " 'mayb could get book tomo return immedi someth',\n",
              " 'call germani penc per minut call fix line via access number prepay direct access',\n",
              " 'chanc might evapor soon violat privaci steal phone number employ paperwork cool pleas contact report supervisor',\n",
              " 'valentin day special win quiz take partner trip lifetim send go p msg rcvd custcar',\n",
              " 'ta daaaaa home babe still',\n",
              " 'cool come havent wine dine',\n",
              " 'sleep surf',\n",
              " 'sorri call later',\n",
              " 'u call right call hand phone',\n",
              " 'ok great thanx lot',\n",
              " 'take post come must text happi read one wiv hello carolin end favourit bless',\n",
              " 'u hide stranger',\n",
              " 'interest like',\n",
              " 'sister clear two round birla soft yesterday',\n",
              " 'gudnit tc practic go',\n",
              " 'di yiju ju saw ur mail case huim havent sent u num di num',\n",
              " 'one small prestig problem',\n",
              " 'fanci shag interest sextextuk com txt xxuk suzi txt cost per msg tnc websit x',\n",
              " 'check realli miss see jeremiah great month',\n",
              " 'nah help never iphon',\n",
              " 'car hour half go apeshit',\n",
              " 'today sorri day ever angri ever misbehav hurt plz plz slap urself bcoz ur fault basic good',\n",
              " 'yo guy ever figur much need alcohol jay tri figur much safe spend weed',\n",
              " 'lt gt ish minut minut ago wtf',\n",
              " 'thank call forgot say happi onam sirji fine rememb met insur person meet qatar insha allah rakhesh ex tata aig join tissco tayseer',\n",
              " 'congratul ur award cd voucher gift guarante free entri wkli draw txt music tnc www ldew com win ppmx age',\n",
              " 'ur cash balanc current pound maxim ur cash send cash p msg cc hg suit land row w j hl',\n",
              " 'actor work work even sleep late sinc unemploy moment alway sleep late unemploy everi day saturday',\n",
              " 'hello got st andrew boy long way cold keep post',\n",
              " 'ha ha cool cool chikku chikku db',\n",
              " 'oh ok prob',\n",
              " 'check audrey statu right',\n",
              " 'busi tri finish new year look forward final meet',\n",
              " 'good afternoon sunshin dawn day refresh happi aliv breath air smile think love alway',\n",
              " 'well know z take care worri',\n",
              " 'updat xma offer latest motorola sonyericsson nokia free bluetooth doubl min txt orang call mobileupd call optout f q',\n",
              " 'discount code rp stop messag repli stop www regalportfolio co uk custom servic',\n",
              " 'wat uniform get',\n",
              " 'cool text readi',\n",
              " 'hello boytoy geeee miss alreadi woke wish bed cuddl love',\n",
              " 'spoil bed well',\n",
              " 'go bath msg next lt gt min',\n",
              " 'cant keep talk peopl sure pay agre price pl tell want realli buy much will pay',\n",
              " 'thank rington order refer charg gbp per week unsubscrib anytim call custom servic',\n",
              " 'say happen',\n",
              " 'could seen recognis face',\n",
              " 'well lot thing happen lindsay new year sigh bar ptbo blue heron someth go',\n",
              " 'keep payasam rinu bring',\n",
              " 'taught ranjith sir call sm like becau he verifi project prabu told today pa dont mistak',\n",
              " 'guess worri must know way bodi repair quit sure worri take slow first test guid ovul relax noth said reason worri keep followin',\n",
              " 'yeah sure give coupl minut track wallet',\n",
              " 'hey leav big deal take care',\n",
              " 'hey late ah meet',\n",
              " 'doubl min txt month free bluetooth orang avail soni nokia motorola phone call mobileupd call optout n dx',\n",
              " 'took mr owl lick',\n",
              " 'custom place call',\n",
              " 'mm time dont like fun',\n",
              " 'mth half price orang line rental latest camera phone free phone mth call mobilesdirect free updat stoptxt',\n",
              " 'yup lunch buffet u eat alreadi',\n",
              " 'huh late fr dinner',\n",
              " 'hey sat go intro pilat kickbox',\n",
              " 'morn ok',\n",
              " 'ye think offic lap room think that last day didnt shut',\n",
              " 'pick bout ish time go',\n",
              " 'perform award calcul everi two month current one month period',\n",
              " 'actual sleep still might u call back text gr rock si send u text wen wake',\n",
              " 'alway put busi put pictur ass facebook one open peopl ever met would think pictur room would hurt make feel violat',\n",
              " 'good even sir al salam wahleykkum share happi news grace god got offer tayseer tissco join hope fine inshah allah meet sometim rakhesh visitor india',\n",
              " 'hmmm k want chang field quickli da wanna get system administr network administr',\n",
              " 'free rington text first poli text get true tone help st free tone x pw e nd txt stop',\n",
              " 'dear chechi talk',\n",
              " 'hair cream ship',\n",
              " 'none happen til get though',\n",
              " 'yep great loxahatche xma tree burn lt gt start hour',\n",
              " 'haha get use drive usf man know lot stoner',\n",
              " 'well slightli disastr class pm fav darl hope day ok coffe wld good stay late tomorrow time place alway',\n",
              " 'hello good week fanci drink someth later',\n",
              " 'headin toward busetop',\n",
              " 'messag text miss sender name miss number miss sent date miss miss u lot that everyth miss sent via fullonsm com',\n",
              " 'come room point iron plan weekend',\n",
              " 'co want thing',\n",
              " 'oki go yan jiu skip ard oso go cine den go mrt one blah blah blah',\n",
              " 'bring home wendi',\n",
              " 'date servic cal l box sk ch',\n",
              " 'whatsup dont u want sleep',\n",
              " 'alright new goal',\n",
              " 'free entri weekli competit text word win c www txttowin co uk',\n",
              " 'alright head minut text meet',\n",
              " 'send logo ur lover name join heart txt love name name mobno eg love adam eve yahoo pobox w wq txtno ad p',\n",
              " 'ye last week take live call',\n",
              " 'someon contact date servic enter phone fanci find call landlin pobox n tf p',\n",
              " 'siva hostel aha',\n",
              " 'urgent mobil number award prize guarante call land line claim valid hr',\n",
              " 'send ur friend receiv someth ur voic speak express childish naughti sentiment rowdi ful attitud romant shi attract funni lt gt irrit lt gt lovabl repli',\n",
              " 'ok ok guess',\n",
              " 'aathi dear',\n",
              " 'pain urin thing els',\n",
              " 'esplanad mind give lift co got car today',\n",
              " 'wnt buy bmw car urgent vri urgent hv shortag lt gt lac sourc arng di amt lt gt lac that prob',\n",
              " 'home watch tv lor',\n",
              " 'usual take fifteen fuck minut respond ye question',\n",
              " 'congrat nokia video camera phone call call cost ppm ave call min vari mobil close post bcm ldn wc n xx',\n",
              " 'book ticket pongal',\n",
              " 'avail like right around hillsborough amp lt gt th',\n",
              " 'messag sent askin lt gt dollar shoul pay lt gt lt gt',\n",
              " 'ask g iouri told stori like ten time alreadi',\n",
              " 'long applebe fuck take',\n",
              " 'hi hope u get txt journey hasnt gd min late think',\n",
              " 'like love arrang',\n",
              " 'ye realli great bhaji told kalli best cricket sachin world tough get',\n",
              " 'suppos wake gt',\n",
              " 'oic saw tot din c found group liao',\n",
              " 'sorri call later',\n",
              " 'hey hey wereth monkeespeopl say monkeyaround howdi gorgeou',\n",
              " 'sorri batteri die come get gram place',\n",
              " 'well done blimey exercis yeah kinda rememb wot hmm',\n",
              " 'wont get concentr dear know mind everyth',\n",
              " 'lol made plan new year',\n",
              " 'min later k',\n",
              " 'hank lotsli',\n",
              " 'thank hope good day today',\n",
              " 'k k detail want transfer acc enough',\n",
              " 'ok tell stay yeah tough optimist thing improv month',\n",
              " 'loan purpos homeown tenant welcom previous refus still help call free text back help',\n",
              " 'si si think ill go make oreo truffl',\n",
              " 'look ami ure beauti intellig woman like u lot know u like like worri',\n",
              " 'hope result consist intellig kind start ask practicum link keep ear open best ttyl',\n",
              " 'call cost guess isnt bad miss ya need ya want ya love ya',\n",
              " 'go thru differ feel waver decis cope individu time heal everyth believ',\n",
              " 'u go phone gonna die stay',\n",
              " 'great never better day give even reason thank god',\n",
              " 'upgrdcentr orang custom may claim free camera phone upgrad loyalti call offer end th juli c appli opt avail',\n",
              " 'sorri call later ok bye',\n",
              " 'ok way railway',\n",
              " 'great princess love give receiv oral doggi style fave posit enjoy make love lt gt time per night',\n",
              " 'put stuff road keep get slipperi',\n",
              " 'go ride bike',\n",
              " 'yup need ju wait e rain stop',\n",
              " 'mani compani tell languag',\n",
              " 'okmail dear dave final notic collect tenerif holiday cash award call landlin tc sae box cw wx ppm',\n",
              " 'long sinc scream princess',\n",
              " 'noth meant money enter account bank remov flat rate someon transfer lt gt account lt gt dollar got remov bank differ charg also differ sure trust ja person send account detail co',\n",
              " 'want get laid tonight want real dog locat sent direct ur mob join uk largest dog network txting moan nyt ec p msg p',\n",
              " 'nice line said broken heart plz cum time infront wise trust u good',\n",
              " 'ok gonna head usf like fifteen minut',\n",
              " 'love aathi love u lot',\n",
              " 'tension ah machi problem',\n",
              " 'k pick anoth th done',\n",
              " 'guy get back g said think stay mcr',\n",
              " 'almost see u sec',\n",
              " 'yo carlo friend alreadi ask work weekend',\n",
              " 'watch tv lor',\n",
              " 'thank babi cant wait tast real thing',\n",
              " 'chang fb jaykwon thuglyf falconerf',\n",
              " 'win realli side long time',\n",
              " 'free messag activ free text messag repli messag word free term condit visit www com',\n",
              " 'dear reach railway happen',\n",
              " 'depend qualiti want type sent boy fade glori want ralph mayb',\n",
              " 'think fix send test messag',\n",
              " 'sorri man account dri would want could trade back half could buy shit credit card',\n",
              " 'congrat year special cinema pass call c suprman v matrix starwar etc free bx ip pm dont miss',\n",
              " 'sorri meet call later',\n",
              " 'class lt gt reunion',\n",
              " 'free call',\n",
              " 'got meh',\n",
              " 'nope think go monday sorri repli late',\n",
              " 'told accentur confirm true',\n",
              " 'kate jackson rec center ish right',\n",
              " 'dear reach room',\n",
              " 'fight world easi u either win lose bt fightng close u dificult u lose u lose u win u still lose',\n",
              " 'come',\n",
              " 'check nuerologist',\n",
              " 'lolnic went fish water',\n",
              " 'congratul week competit draw u prize claim call b cs stop sm ppm',\n",
              " 'wait e car dat bore wat co wait outsid got noth home stuff watch tv wat',\n",
              " 'mayb westshor hyde park villag place near hous',\n",
              " 'know anthoni bring money school fee pay rent stuff like that need help friend need',\n",
              " 'signific',\n",
              " 'opinion jada kusruthi lovabl silent spl charact matur stylish simpl pl repli',\n",
              " 'latest g still scroung ammo want give new ak tri',\n",
              " 'prabha soryda reali frm heart sori',\n",
              " 'lol ok forgiven',\n",
              " 'jst chang tat',\n",
              " 'guarante latest nokia phone gb ipod mp player prize txt word collect ibhltd ldnw h p mtmsgrcvd',\n",
              " 'competit',\n",
              " 'boltblu tone p repli poli mono eg poli cha cha slide yeah slow jamz toxic come stop tone txt',\n",
              " 'credit top http www bubbletext com renew pin tgxxrz',\n",
              " 'way transport less problemat sat night way u want ask n join bday feel free need know definit no book fri',\n",
              " 'usual person unconsci children adult may behav abnorm call',\n",
              " 'ebay might less elsewher',\n",
              " 'shall come get pickl',\n",
              " 'gonna go get taco',\n",
              " 'rude campu',\n",
              " 'urgent mobil award bonu caller prize nd attempt contact call box qu',\n",
              " 'hi b ard christma enjoy n merri x ma',\n",
              " 'today offer claim ur worth discount voucher text ye savamob member offer mobil cs sub unsub repli x',\n",
              " 'ye pretti ladi like singl',\n",
              " 'reciev tone within next hr term condit pleas see channel u teletext pg',\n",
              " 'jay say doubl faggot',\n",
              " 'privat account statement show un redeem point call identifi code expir',\n",
              " 'today sunday sunday holiday work',\n",
              " 'gudnit tc practic go',\n",
              " 'late',\n",
              " 'call hope l r malaria know miss guy miss bani big pl give love especi great day',\n",
              " 'good afternoon love goe day hope mayb got lead job think boytoy send passion kiss across sea',\n",
              " 'probabl gonna see later tonight lt',\n",
              " 'mayb fat finger press button know',\n",
              " 'ummmmmaah mani mani happi return day dear sweet heart happi birthday dear',\n",
              " 'tirupur da start offic call',\n",
              " 'www applausestor com monthlysubscript p msg max month csc web age stop txt stop',\n",
              " 'famou quot develop abil listen anyth uncondit without lose temper self confid mean marri',\n",
              " 'go colleg pa els ill come self pa',\n",
              " 'oclock mine bash flat plan',\n",
              " 'girl stay bed girl need recoveri time id rather pass fun coop bed',\n",
              " 'special',\n",
              " 'know need get hotel got invit apologis cali sweet come english bloke weddin',\n",
              " 'sorri took long omw',\n",
              " 'wait lt gt min',\n",
              " 'ok give minut think see btw alibi cut hair whole time',\n",
              " 'imagin final get sink bath put pace mayb even eat left also imagin feel cage cock surround bath water remind alway own enjoy cuck',\n",
              " 'hurri weed defici like three day',\n",
              " 'sure get acknowledg astoundingli tactless gener faggi demand blood oath fo',\n",
              " 'ok everi night take warm bath drink cup milk see work magic still need loos weight know',\n",
              " 'look fri pan case cheap book perhap silli fri pan like book',\n",
              " 'well uv caus mutat sunscreen like essenti theseday',\n",
              " 'lunch onlin',\n",
              " 'know friend alreadi told',\n",
              " 'hi princess thank pic pretti',\n",
              " 'aiyo u alway c ex one dunno abt mei repli first time u repli fast lucki workin huh got bao ur sugardad ah gee',\n",
              " 'hi msg offic',\n",
              " 'thanx e browni v nice',\n",
              " 'geeeee love much bare stand',\n",
              " 'gent tri contact last weekend draw show prize guarante call claim code k valid hr ppm',\n",
              " 'fuck babe miss alreadi know let send money toward net need want crave',\n",
              " 'ill call u mrw ninish address icki american freek wont stop callin bad jen k eh',\n",
              " 'oooh bed ridden ey think',\n",
              " 'anyway go gym whatev love smile hope ok good day babe miss much alreadi',\n",
              " 'love daddi make scream pleasur go slap ass dick',\n",
              " 'wot u wanna missi',\n",
              " 'yar lor wait mum finish sch lunch lor whole morn stay home clean room room quit clean hee',\n",
              " 'know lab goggl went',\n",
              " 'open door',\n",
              " 'wait call',\n",
              " 'nope wait sch daddi',\n",
              " 'cash prize claim call',\n",
              " 'tire argu week week want',\n",
              " 'wait sch finish ard',\n",
              " 'mobil number claim call us back ring claim hot line',\n",
              " 'arngd marriag u r walkin unfortuntli snake bite u bt love marriag danc frnt snake amp sayin bite bite',\n",
              " 'huh earli dinner outsid izzit',\n",
              " 'ok anyway need chang said',\n",
              " 'tri contact repli offer min textand new video phone call repli free deliveri tomorrow',\n",
              " 'ex wife abl kid want kid one day',\n",
              " 'scotland hope show jjc tendenc take care live dream',\n",
              " 'tell u headach want use hour sick time',\n",
              " 'dun thk quit yet hmmm go jazz yogasana oso go meet em lesson den',\n",
              " 'pete pleas ring meiv hardli gotani credit',\n",
              " 'ya srsli better yi tho',\n",
              " 'meet call later',\n",
              " 'ur chanc win wkli shop spree txt shop c www txt shop com custcar x p wk',\n",
              " 'special select receiv pound award call line close cost ppm cs appli ag promo',\n",
              " 'privat account statement show un redeem point call identifi code expir',\n",
              " 'still grand prix',\n",
              " 'met stranger choos friend long world stand friendship never end let friend forev gud nitz',\n",
              " 'great',\n",
              " 'gud mrng dear nice day',\n",
              " 'import custom servic announc call freephon',\n",
              " 'exhaust train morn much wine pie sleep well',\n",
              " 'go buy mum present ar',\n",
              " 'mind blastin tsunami occur rajnik stop swim indian ocean',\n",
              " 'u send home first ok lor readi yet',\n",
              " 'speak cash yet',\n",
              " 'happi come noon',\n",
              " 'meet lunch la',\n",
              " 'take care n get well soon',\n",
              " 'xclusiv clubsaisai morow soire special zouk nichol pari free rose ladi info',\n",
              " 'meant say cant wait see u get bore bridgwat banter',\n",
              " 'neva mind ok',\n",
              " 'fine imma get drink somethin want come find',\n",
              " 'day kick euro u kept date latest news result daili remov send get txt stop',\n",
              " 'valentin game send di msg ur friend answer r someon realli love u que colour suit best rpli',\n",
              " 'mani depend',\n",
              " 'thanx today cer nice catch ave find time often oh well take care c u soon c',\n",
              " 'call said choos futur',\n",
              " 'happi valentin day know earli hundr handsom beauti wish thought finish aunti uncl st',\n",
              " 'like v shock leh co tell shuhui like tell leona also like dat almost know liao got ask abt ur reaction lor',\n",
              " 'famili happi',\n",
              " 'come n pick come immedi aft ur lesson',\n",
              " 'let snow let snow kind weather bring ppl togeth friendship grow',\n",
              " 'dear got lt gt dollar hi hi',\n",
              " 'good word word may leav u dismay mani time',\n",
              " 'make sure alex know birthday fifteen minut far concern',\n",
              " 'sorri got thing may pub later',\n",
              " 'nah straight bring bud drink someth actual littl use straight cash',\n",
              " 'haha good hear offici paid market th',\n",
              " 'mani lick take get center tootsi pop',\n",
              " 'yup thk r e teacher said make face look longer darren ask cut short',\n",
              " 'new textbuddi chat horni guy ur area p free receiv search postcod gaytextbuddi com txt one name',\n",
              " 'today vodafon number end select receiv award number match call receiv award',\n",
              " 'pleas dont say like hi hi hi',\n",
              " 'thank u',\n",
              " 'oh forward messag thought send',\n",
              " 'got seventeen pound seven hundr ml hope ok',\n",
              " 'dear voucher holder claim week offer pc go http www e tlp co uk expressoff ts cs appli stop text txt stop',\n",
              " 'n funni',\n",
              " 'sweetheart hope kind day one load reason smile biola',\n",
              " 'login dat time dad fetch home',\n",
              " 'shower babi',\n",
              " 'askd u question hour answer',\n",
              " 'well imma definit need restock thanksgiv let know',\n",
              " 'said kiss kiss sound effect gorgeou man kind person need smile brighten day',\n",
              " 'probabl gonna swing wee bit',\n",
              " 'ya nice readi thursday',\n",
              " 'allo brave buse taken train triumph mean b ham jolli good rest week',\n",
              " 'watch cartoon listen music amp eve go templ amp church u',\n",
              " 'mind ask happen dont say uncomfort',\n",
              " 'privat account statement show un redeem point call identifi code expir',\n",
              " 'prob send email',\n",
              " 'cash prize claim call c rstm sw ss ppm',\n",
              " 'that cool sometim slow gentl sonetim rough hard',\n",
              " 'gonna say sorri would normal start panic time sorri see tuesday',\n",
              " 'wait know wesley town bet hella drug',\n",
              " 'fine miss much',\n",
              " 'u got person stori',\n",
              " 'tell drug dealer get impati',\n",
              " 'sun cant come earth send luv ray cloud cant come river send luv rain cant come meet u send care msg u gud evng',\n",
              " 'place man',\n",
              " 'doesnt make sens take unless free need know wikipedia com',\n",
              " 'premium phone servic call',\n",
              " 'sea lay rock rock envelop envelop paper paper word',\n",
              " 'mum repent',\n",
              " 'sorri go home first daddi come fetch later',\n",
              " 'leav de start prepar next',\n",
              " 'ye babi studi posit kama sutra',\n",
              " 'en chikku nang bakra msg kalstiya tea coffe',\n",
              " 'carlo minut still need buy',\n",
              " 'pay lt decim gt lakh',\n",
              " 'good even ttyl',\n",
              " 'u receiv msg',\n",
              " 'ho ho big belli laugh see ya tomo',\n",
              " 'sm ac sun post hello seem cool',\n",
              " 'get ur st rington free repli msg tone gr top tone phone everi week per wk opt send stop',\n",
              " 'ditto worri say anyth anymor like said last night whatev want peac',\n",
              " 'got lt gt way could pick',\n",
              " 'dont knw pa drink milk',\n",
              " 'mayb say hi find got card great escap wetherspoon',\n",
              " 'piggi r u awak bet u still sleep go lunch',\n",
              " 'caus freaki lol',\n",
              " 'miss call caus yell scrappi miss u wait u come home lone today',\n",
              " 'hex place talk explain',\n",
              " 'log wat sdryb',\n",
              " 'xy go e lunch',\n",
              " 'hi sue year old work lapdanc love sex text live bedroom text sue textoper g da ppmsg',\n",
              " 'want ask wait finish lect co lect finish hour anyway',\n",
              " 'finish work yet',\n",
              " 'everi king cri babi everi great build map imprtant u r today u wil reach tomorw gud ni',\n",
              " 'dear cherthala case u r come cochin pl call bfore u start shall also reach accordingli tell day u r come tmorow engag an holiday',\n",
              " 'thank love torch bold',\n",
              " 'forward pleas call immedi urgent messag wait',\n",
              " 'farm open',\n",
              " 'sorri troubl u buy dad big small sat n sun thanx',\n",
              " 'sister law hope great month say hey abiola',\n",
              " 'purchas stuff today mail po box number',\n",
              " 'ah poop look like ill prob send laptop get fix cuz gpu problem',\n",
              " 'good good job like entrepreneur',\n",
              " 'aight close still around alex place',\n",
              " 'meet corpor st outsid gap see mind work',\n",
              " 'mum ask buy food home',\n",
              " 'k u also dont msg repli msg',\n",
              " 'much r will pay',\n",
              " 'sorri call later',\n",
              " 'import prevent dehydr give enough fluid',\n",
              " 'that bit weird even suppos happen good idea sure pub',\n",
              " 'true dear sat pray even felt sm time',\n",
              " 'think get away trek long famili town sorri',\n",
              " 'wanna gym harri',\n",
              " 'quit late lar ard anyway wun b drivin',\n",
              " 'review keep fantast nokia n gage game deck club nokia go www cnupdat com newslett unsubscrib alert repli word',\n",
              " 'mth half price orang line rental latest camera phone free phone mth call mobilesdirect free updat stoptxt cs',\n",
              " 'height confid aeronaut professor wer calld amp wer askd sit aeroplan aftr sat wer told dat plane ws made student dey hurri plane bt didnt move said made student',\n",
              " 'seem like weird time night g want come smoke day shitstorm attribut alway come make everyon smoke',\n",
              " 'pm cost p',\n",
              " 'save stress person dorm account send account detail money sent',\n",
              " 'also know lunch menu da know',\n",
              " 'stuff sell tell',\n",
              " 'urgent nd attempt contact u u call b csbcm wc n xx callcost ppm mobilesvari max',\n",
              " 'book lesson msg call work sth go get spec membership px',\n",
              " 'guarante cash prize claim yr prize call custom servic repres pm',\n",
              " 'macha dont feel upset assum mindset believ one even wonder plan us let life begin call anytim',\n",
              " 'oh send address',\n",
              " 'fine anytim best',\n",
              " 'wondar full flim',\n",
              " 'ya even cooki jelli',\n",
              " 'world run still mayb feel admit mad correct let call life keep run world may u r also run let run',\n",
              " 'got look scrumptiou daddi want eat night long',\n",
              " 'co lar ba dao ok pm lor u never ask go ah said u would ask fri said u ask today',\n",
              " 'alright omw gotta chang order half th',\n",
              " 'exactli anyway far jide studi visit',\n",
              " 'dunno u ask',\n",
              " 'email alertfrom jeri stewarts kbsubject low cost prescripiton drvgsto listen email call',\n",
              " 'spring come earli yay',\n",
              " 'lol feel bad use money take steak dinner',\n",
              " 'even u dont get troubl convinc tel twice tel neglect msg dont c read dont repli',\n",
              " 'leav qatar tonit search opportun went fast pl add ur prayer dear rakhesh',\n",
              " 'one talk',\n",
              " 'thank look realli appreci',\n",
              " 'hi custom loyalti offer new nokia mobil txtauction txt word start get ctxt tc p mtmsg',\n",
              " 'wish',\n",
              " 'haha mayb u rite u know well da feel like someon gd lor u faster go find one gal group attach liao',\n",
              " 'ye glad made',\n",
              " 'well littl time thing good time ahead',\n",
              " 'got room soon put clock back til shout everyon get realis wahay anoth hour bed',\n",
              " 'ok may free gym',\n",
              " 'men like shorter ladi gaze eye',\n",
              " 'dunno ju say go lido time',\n",
              " 'promis take good care princess run pleas send pic get chanc ttyl',\n",
              " 'u subscrib best mobil content servic uk per day send stop helplin',\n",
              " 'reason spoken year anyway great week best exam',\n",
              " 'monday next week give full gist',\n",
              " 'realiz year thousand old ladi run around tattoo',\n",
              " 'import custom servic announc premier',\n",
              " 'dont gimm lip caveboy',\n",
              " 'get librari',\n",
              " 'reali sorri recognis number confus r u pleas',\n",
              " 'didnt holla',\n",
              " 'cant think anyon spare room top head',\n",
              " 'faith make thing possibl hope make thing work love make thing beauti may three christma merri christma',\n",
              " 'u made appoint',\n",
              " 'call carlo phone vibrat act might hear text',\n",
              " 'romant pari night flight book next year call ts cs appli',\n",
              " 'grandma oh dear u still ill felt shit morn think hungov anoth night leav sat',\n",
              " 'urgent ur guarante award still unclaim call closingd claimcod pmmorefrommobil bremov mobypobox ls yf',\n",
              " 'noth ju tot u would ask co u ba gua went mt faber yest yest ju went alreadi mah today go ju call lor',\n",
              " 'wish famili merri x ma happi new year advanc',\n",
              " 'ur award citi break could win summer shop spree everi wk txt store skilgm tsc winawk age perwksub',\n",
              " 'nt goin got somethin unless meetin dinner lor haha wonder go ti time',\n",
              " 'sorri call later',\n",
              " 'cant pick phone right pl send messag',\n",
              " 'lol know dramat school alreadi close tomorrow appar drive inch snow suppos get',\n",
              " 'get anywher damn job hunt',\n",
              " 'lol u drunkard hair moment yeah still tonight wat plan',\n",
              " 'idc get weasel way shit twice row',\n",
              " 'wil lt gt minut got space',\n",
              " 'sleep surf',\n",
              " 'thank pick trash',\n",
              " 'go tell friend sure want live smoke much spend hour beg come smoke',\n",
              " 'hi kate love see tonight ill phone tomorrow got sing guy gave card xxx',\n",
              " 'happi new year dear brother realli miss got number decid send text wish happi abiola',\n",
              " 'mean get door',\n",
              " 'opinion jada kusruthi lovabl silent spl charact matur stylish simpl pl repli',\n",
              " 'hmmm thought said hour slave late punish',\n",
              " 'beerag',\n",
              " 'import custom servic announc premier call freephon',\n",
              " 'dont think turn like randomlli within min open',\n",
              " 'suppos make still town though',\n",
              " 'time fix spell sometim get complet diff word go figur',\n",
              " 'ever thought live good life perfect partner txt back name age join mobil commun p sm',\n",
              " 'free top polyphon tone call nation rate get toppoli tune sent everi week text subpoli per pole unsub',\n",
              " 'gud mrng dear hav nice day',\n",
              " 'hope enjoy game yesterday sorri touch pl know fondli bein thot great week abiola',\n",
              " 'e best ur drive tmr',\n",
              " 'u dogbreath sound like jan c al',\n",
              " 'omg want scream weigh lost weight woohoo',\n",
              " 'gener one uncount noun u dictionari piec research',\n",
              " 'realli get hang around',\n",
              " 'orang custom may claim free camera phone upgrad loyalti call offer end thmarch c appli opt availa',\n",
              " 'petey boy wherear friendsar thekingshead come canlov nic',\n",
              " 'ok msg u b leav hous',\n",
              " 'gimm lt gt minut ago',\n",
              " 'last chanc claim ur worth discount voucher today text shop savamob offer mobil cs savamob pobox uz sub',\n",
              " 'appt lt time gt fault u listen told u twice',\n",
              " 'free st week nokia tone ur mobil everi week txt nokia get txting tell ur mate www getz co uk pobox w wq norm p tone',\n",
              " 'guarante award even cashto claim ur award call free stop getstop php rg jx',\n",
              " 'k',\n",
              " 'dled imp',\n",
              " 'sure make sure know smokin yet',\n",
              " 'boooo alway work quit',\n",
              " 'take half day leav bec well',\n",
              " 'ugh wanna get bed warm',\n",
              " 'nervou lt gt',\n",
              " 'ring come guy costum gift futur yowif hint hint',\n",
              " 'congratul ur award either cd gift voucher free entri weekli draw txt music tnc www ldew com win ppmx age',\n",
              " 'borrow ur bag ok',\n",
              " 'u outbid simonwatson shinco dvd plyr bid visit sm ac smsreward end bid notif repli end',\n",
              " 'boytoy miss happen',\n",
              " 'lot use one babe model help youi bring match',\n",
              " 'also bring galileo dobbi',\n",
              " 'respond',\n",
              " 'boo babe u enjoyin yourjob u seem b gettin well hunni hope ure ok take care llspeak u soonlot lovem xxxx',\n",
              " 'good afternoon starshin boytoy crave yet ach fuck sip cappuccino miss babe teas kiss',\n",
              " 'road cant txt',\n",
              " 'smsservic yourinclus text credit pl goto www comuk net login qxj unsubscrib stop extra charg help comuk cm ae',\n",
              " 'p alfi moon children need song ur mob tell ur txt tone chariti nokia poli chariti poli zed profit chariti',\n",
              " 'good even ttyl',\n",
              " 'hmm bit piec lol sigh',\n",
              " 'hahaha use brain dear',\n",
              " 'hey got mail',\n",
              " 'sorri light turn green meant anoth friend want lt gt worth may around',\n",
              " 'thank yesterday sir wonder hope enjoy burial mojibiola',\n",
              " 'u secret admir reveal think u r special call opt repli reveal stop per msg recd cust care',\n",
              " 'hi mate rv u hav nice hol messag say hello coz sent u age start drive stay road rvx',\n",
              " 'dear voucher holder claim week offer pc pleas go http www e tlp co uk expressoff ts cs appli stop text txt stop',\n",
              " 'thank much skype wit kz sura didnt get pleasur compani hope good given ultimatum oh countin aburo enjoy messag sent day ago',\n",
              " 'sure result offer',\n",
              " 'good morn dear great amp success day',\n",
              " 'want anytim network min text new video phone five pound per week call repli deliveri tomorrow',\n",
              " 'sir late pay rent past month pay lt gt charg felt would inconsider nag someth give great cost didnt speak howev recess wont abl pay charg month henc askin well ahead month end pleas help thank',\n",
              " 'tri contact offer new video phone anytim network min half price rental camcord call repli deliveri wed',\n",
              " 'last chanc claim ur worth discount voucher text ye savamob member offer mobil cs sub remov txt x stop',\n",
              " 'luv u soo much u understand special u r ring u morrow luv u xxx',\n",
              " 'pl send comprehens mail pay much',\n",
              " 'prashanthettan mother pass away last night pray famili',\n",
              " 'urgent call landlin complimentari ibiza holiday cash await collect sae cs po box sk wp ppm',\n",
              " 'k k go',\n",
              " 'meanwhil shit suit xavier decid give us lt gt second warn samantha come play jay guitar impress shit also think doug realiz live anymor',\n",
              " 'stomach thru much trauma swear eat better lose weight',\n",
              " 'offic what matter msg call break',\n",
              " 'yeah bare enough room two us x mani fuck shoe sorri man see later',\n",
              " 'today offer claim ur worth discount voucher text ye savamob member offer mobil cs sub unsub repli x',\n",
              " 'u reach orchard alreadi u wan go buy ticket first',\n",
              " 'real babi want bring inner tigress',\n",
              " 'da run activ full version da',\n",
              " 'ah poor babi hope urfeel bettersn luv probthat overdos work hey go care spk u sn lot lovejen xxx',\n",
              " 'stop stori told return say order',\n",
              " 'talk sexi make new friend fall love world discreet text date servic text vip see could meet',\n",
              " 'go take babe',\n",
              " 'hai ana tomarrow come morn lt decim gt ill sathi go rto offic repli came home',\n",
              " 'spoon okay',\n",
              " 'say somebodi name tampa',\n",
              " 'work go min',\n",
              " 'brother geniu',\n",
              " 'sorri guess whenev get hold connect mayb hour two text',\n",
              " 'u find time bu coz need sort stuff',\n",
              " 'dude ive see lotta corvett late',\n",
              " 'congratul ur award either yr suppli cd virgin record mysteri gift guarante call ts cs www smsco net pm approx min',\n",
              " 'consid wall bunker shit import never play peac guess place high enough matter',\n",
              " 'privat account statement xxxxxx show un redeem point call identifi code expir',\n",
              " 'hello need posh bird chap user trial prod champney put need address dob asap ta r',\n",
              " 'u want xma free text messag new video phone half price line rental call free find',\n",
              " 'well offici philosoph hole u wanna call home readi save',\n",
              " 'go good problem still need littl experi understand american custom voic',\n",
              " 'text drop x',\n",
              " 'ugh long day exhaust want cuddl take nap',\n",
              " 'talk atleast day otherwis miss best friend world shakespear shesil lt gt',\n",
              " 'shop till u drop either k k cash travel voucher call ntt po box cr bt fixedlin cost ppm mobil vari',\n",
              " 'castor need see someth',\n",
              " 'sunshin quiz wkli q win top soni dvd player u know countri liverpool play mid week txt ansr sp tyron',\n",
              " 'u secret admir look make contact u find r reveal think ur special call',\n",
              " 'u secret admir look make contact u find r reveal think ur special call stopsm',\n",
              " 'remind download content alreadi paid goto http doit mymobi tv collect content',\n",
              " 'see knew give break time woul lead alway want miss curfew gonna gibe til one midnight movi gonna get til need come home need getsleep anyth need b studdi ear train',\n",
              " 'love give massag use lot babi oil fave posit',\n",
              " 'dude go sup',\n",
              " 'yoyyooo u know chang permiss drive mac usb flash drive',\n",
              " 'gibb unsold mike hussey',\n",
              " 'like talk pa abl dont know',\n",
              " 'dun cut short leh u dun like ah fail quit sad',\n",
              " 'unbeliev faglord',\n",
              " 'wife knew time murder exactli',\n",
              " 'ask princess',\n",
              " 'great princess think',\n",
              " 'nutter cutter ctter cttergg cttargg ctargg ctagg ie',\n",
              " 'ok noe u busi realli bore msg u oso dunno wat colour choos one',\n",
              " 'g class earli tomorrow thu tri smoke lt gt',\n",
              " 'superb thought grate u dont everyth u want mean u still opportun happier tomorrow u today',\n",
              " 'hope good week check',\n",
              " 'use hope agent drop sinc book thing year whole boston nyc experi',\n",
              " 'thursday night yeah sure thing work',\n",
              " 'free rington wait collect simpli text password mix verifi get usher britney fml',\n",
              " 'probabl money worri thing come due sever outstand invoic work two three month ago',\n",
              " 'possibl teach',\n",
              " 'wonder phone batteri went dead tell love babe',\n",
              " 'love smell bu tobacco',\n",
              " 'get worri derek taylor alreadi assum worst',\n",
              " 'hey charl sorri late repli',\n",
              " 'lastest stereophon marley dizze racal libertin stroke win nookii game flirt click themob wap bookmark text wap',\n",
              " 'give plu said grinul greet whenev speak',\n",
              " 'white fudg oreo store',\n",
              " 'januari male sale hot gay chat cheaper call nation rate p min cheap p min peak stop text call p min',\n",
              " 'love come took long leav zaher got word ym happi see sad left miss',\n",
              " 'sorri hurt',\n",
              " 'feel nauseou piss eat sweet week caus today plan pig diet week hungri',\n",
              " 'ok lor earli still project meet',\n",
              " 'call da wait call',\n",
              " 'could ask carlo could get anybodi els chip',\n",
              " 'actual send remind today wonder weekend',\n",
              " 'peopl see msg think iam addict msging wrong bcoz know iam addict sweet friend bslvyl',\n",
              " 'hey gave photo regist drive ah tmr wanna meet yck',\n",
              " 'dont talk ever ok word',\n",
              " 'u wana see',\n",
              " 'way school pl send ashley number',\n",
              " 'shall fine avalarr hollalat',\n",
              " 'went attend anoth two round today still reach home',\n",
              " 'actual delet old websit blog magicalsong blogspot com',\n",
              " 'k wait chikku il send aftr lt gt min',\n",
              " 'diet ate mani slice pizza yesterday ugh alway diet',\n",
              " 'k give kvb acc detail',\n",
              " 'oh come ah',\n",
              " 'money r lucki winner claim prize text money million give away ppt x normal text rate box w jy',\n",
              " 'realli sorri b abl friday hope u find altern hope yr term go ok',\n",
              " 'congratul ore mo owo wa enjoy wish mani happi moment fro wherev go',\n",
              " 'samu shoulder yet',\n",
              " 'time think need know near campu',\n",
              " 'dear matthew pleas call landlin complimentari lux tenerif holiday cash await collect ppm sae cs box sk xh',\n",
              " 'dun wear jean lor',\n",
              " 'sinc side fever vomitin',\n",
              " 'k k colleg',\n",
              " 'urgent call landlin complimentari tenerif holiday cash await collect sae cs box hp yf ppm',\n",
              " 'better made friday stuf like pig yesterday feel bleh least writh pain kind bleh',\n",
              " 'sell ton coin sell coin someon thru paypal voila money back life pocket',\n",
              " 'theyr lot place hospit medic place safe',\n",
              " 'get touch folk wait compani txt back name age opt enjoy commun p sm',\n",
              " 'also sorta blown coupl time recent id rather text blue look weed',\n",
              " 'sent score sopha secondari applic school think think appli research cost also contact joke ogunrind school one less expens one',\n",
              " 'cant wait see photo use',\n",
              " 'ur cash balanc current pound maxim ur cash send go p msg cc po box tcr w',\n",
              " 'hey book kb sat alreadi lesson go ah keep sat night free need meet confirm lodg',\n",
              " 'chk ur belovd ms dict',\n",
              " 'time want come',\n",
              " 'awesom lemm know whenev around',\n",
              " 'shb b ok lor thanx',\n",
              " 'beauti truth graviti read care heart feel light someon feel heavi someon leav good night',\n",
              " 'also rememb get dobbi bowl car',\n",
              " 'filthi stori girl wait',\n",
              " 'sorri c ur msg yar lor poor thing one night tmr u brand new room sleep',\n",
              " 'love decis feel could decid love life would much simpler less magic',\n",
              " 'welp appar retir',\n",
              " 'sort code acc bank natwest repli confirm sent right person',\n",
              " '',\n",
              " 'u sure u take sick time',\n",
              " 'urgent tri contact u today draw show prize guarante call land line claim valid hr',\n",
              " 'watch cartoon listen music amp eve go templ amp church u',\n",
              " 'yo chad gymnast class wanna take site say christian class full',\n",
              " 'much buzi',\n",
              " 'better still catch let ask sell lt gt',\n",
              " 'sure night menu know noon menu',\n",
              " 'u want come back beauti necklac token heart that give wife like see one give dont call wait till come',\n",
              " 'will go aptitud class',\n",
              " 'wont b tri sort hous ok',\n",
              " 'yar lor wan go c hors race today mah eat earlier lor ate chicken rice u',\n",
              " 'haha awesom omw back',\n",
              " 'yup thk e shop close lor',\n",
              " 'account number',\n",
              " 'eh u send wrongli lar',\n",
              " 'hey ad crap nite borin without ya boggi u bore biatch thanx u wait til nxt time il ave ya',\n",
              " 'ok shall talk',\n",
              " 'dont hesit know second time weak like keep notebook eat day anyth chang day sure noth',\n",
              " 'hey pay salari de lt gt',\n",
              " 'anoth month need chocol weed alcohol',\n",
              " 'start search get job day great potenti talent',\n",
              " 'reckon need town eightish walk carpark',\n",
              " 'congrat mobil g videophon r call videochat wid mate play java game dload polyph music nolin rentl',\n",
              " 'look fuckin time fuck think',\n",
              " 'yo guess drop',\n",
              " 'carlo say mu lt gt minut',\n",
              " 'offic call lt gt min',\n",
              " 'geeee miss alreadi know think fuck wait till next year togeth love kiss',\n",
              " 'yun ah ubi one say wan call tomorrow call look iren ere got bu ubi cre ubi tech park ph st wkg day n',\n",
              " 'ugh gotta drive back sd la butt sore',\n",
              " 'th juli',\n",
              " 'hi im relax time ever get everi day parti good night get home tomorrow ish',\n",
              " 'wan come come lor din c stripe skirt',\n",
              " 'xma stori peac xma msg love xma miracl jesu hav bless month ahead amp wish u merri xma',\n",
              " 'number',\n",
              " 'chang e one next escal',\n",
              " 'yetund class run water make ok pl',\n",
              " 'lot happen feel quiet beth aunt charli work lot helen mo',\n",
              " 'wait bu stop aft ur lect lar dun c go get car come back n pick',\n",
              " 'aight thank comin',\n",
              " ...]"
            ]
          },
          "metadata": {},
          "execution_count": 107
        }
      ]
    },
    {
      "cell_type": "code",
      "source": [
        "#create bag of words\n",
        "\n",
        "from sklearn.feature_extraction.text import CountVectorizer\n",
        "cv=CountVectorizer(max_features=2500, binary=True)\n"
      ],
      "metadata": {
        "id": "klBLAHCvGDn0"
      },
      "execution_count": 118,
      "outputs": []
    },
    {
      "cell_type": "code",
      "source": [
        "X=cv.fit_transform(corpus).toarray()"
      ],
      "metadata": {
        "id": "RBhIKEokGkZ3"
      },
      "execution_count": 119,
      "outputs": []
    },
    {
      "cell_type": "code",
      "source": [
        "X"
      ],
      "metadata": {
        "colab": {
          "base_uri": "https://localhost:8080/"
        },
        "id": "NrhnnjgvGs1w",
        "outputId": "7e0140df-a064-461a-bfd2-750b2d6114eb"
      },
      "execution_count": 120,
      "outputs": [
        {
          "output_type": "execute_result",
          "data": {
            "text/plain": [
              "array([[0, 0, 0, ..., 0, 0, 0],\n",
              "       [0, 0, 0, ..., 0, 0, 0],\n",
              "       [0, 0, 0, ..., 0, 0, 0],\n",
              "       ...,\n",
              "       [0, 0, 0, ..., 0, 0, 0],\n",
              "       [0, 0, 0, ..., 0, 0, 0],\n",
              "       [0, 0, 0, ..., 0, 0, 0]])"
            ]
          },
          "metadata": {},
          "execution_count": 120
        }
      ]
    }
  ]
}